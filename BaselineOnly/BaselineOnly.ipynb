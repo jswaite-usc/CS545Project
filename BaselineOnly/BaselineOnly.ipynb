{
 "cells": [
  {
   "cell_type": "code",
   "execution_count": 2,
   "metadata": {},
   "outputs": [
    {
     "name": "stdout",
     "output_type": "stream",
     "text": [
      "2.10.1\n"
     ]
    }
   ],
   "source": [
    "#We will make a basic CNN model to classify CIFAR-100#\n",
    "#We will use Keras from Tensorflow to build the model#\n",
    "\n",
    "import tensorflow as tf\n",
    "from tensorflow import keras\n",
    "from tensorflow.keras import layers\n",
    "from tensorflow.keras.datasets import cifar100\n",
    "from tensorflow.keras.models import Sequential\n",
    "from tensorflow.keras.layers import Dense, Flatten, Conv2D, MaxPooling2D, Dropout\n",
    "from tensorflow.keras.losses import sparse_categorical_crossentropy\n",
    "from tensorflow.keras.optimizers import Adam\n",
    "from tensorflow.keras.callbacks import TensorBoard\n",
    "import numpy as np\n",
    "import matplotlib.pyplot as plt\n",
    "import datetime\n",
    "\n",
    "#show the tensorflow version\n",
    "print(tf.__version__)\n"
   ]
  },
  {
   "cell_type": "code",
   "execution_count": 3,
   "metadata": {},
   "outputs": [
    {
     "name": "stdout",
     "output_type": "stream",
     "text": [
      "[name: \"/device:CPU:0\"\n",
      "device_type: \"CPU\"\n",
      "memory_limit: 268435456\n",
      "locality {\n",
      "}\n",
      "incarnation: 12611395633978734471\n",
      "xla_global_id: -1\n",
      ", name: \"/device:GPU:0\"\n",
      "device_type: \"GPU\"\n",
      "memory_limit: 5713690624\n",
      "locality {\n",
      "  bus_id: 1\n",
      "  links {\n",
      "  }\n",
      "}\n",
      "incarnation: 1293165003401730576\n",
      "physical_device_desc: \"device: 0, name: NVIDIA GeForce RTX 4060 Laptop GPU, pci bus id: 0000:01:00.0, compute capability: 8.9\"\n",
      "xla_global_id: 416903419\n",
      "]\n",
      "[PhysicalDevice(name='/physical_device:GPU:0', device_type='GPU')]\n"
     ]
    }
   ],
   "source": [
    "#Test if have GPU\n",
    "from tensorflow.python.client import device_lib\n",
    "print(device_lib.list_local_devices())\n",
    "import tensorflow as tf; print(tf.config.list_physical_devices('GPU'))"
   ]
  },
  {
   "cell_type": "code",
   "execution_count": 4,
   "metadata": {},
   "outputs": [
    {
     "name": "stdout",
     "output_type": "stream",
     "text": [
      "(50000, 32, 32, 3)\n",
      "(50000, 1)\n",
      "(10000, 32, 32, 3)\n",
      "(10000, 1)\n"
     ]
    }
   ],
   "source": [
    "#load the CIFAR-100 dataset & split into train and test sets\n",
    "(x_train, y_train), (x_test, y_test) = cifar100.load_data()\n",
    "\n",
    "#Normalize pixel values from 1-255 to 0-1\n",
    "x_train, x_test = x_train / 255.0, x_test / 255.0\n",
    "\n",
    "#show the shape of the dataset\n",
    "print(x_train.shape)\n",
    "print(y_train.shape)\n",
    "print(x_test.shape)\n",
    "print(y_test.shape) "
   ]
  },
  {
   "cell_type": "code",
   "execution_count": 5,
   "metadata": {},
   "outputs": [],
   "source": [
    "#shuffle train & test data\n",
    "\n",
    "# # Assuming x_train and y_train are your data\n",
    "# indices = np.arange(x_train.shape[0])\n",
    "# np.random.shuffle(indices)\n",
    "\n",
    "# # Let's say we want to select 10000 random samples\n",
    "# x_train_subset = x_train[indices[:10000]]\n",
    "# y_train_subset = y_train[indices[:10000]]"
   ]
  },
  {
   "cell_type": "code",
   "execution_count": 6,
   "metadata": {},
   "outputs": [
    {
     "name": "stdout",
     "output_type": "stream",
     "text": [
      "Model: \"sequential\"\n",
      "_________________________________________________________________\n",
      " Layer (type)                Output Shape              Param #   \n",
      "=================================================================\n",
      " conv2d (Conv2D)             (None, 32, 32, 32)        896       \n",
      "                                                                 \n",
      " conv2d_1 (Conv2D)           (None, 32, 32, 32)        9248      \n",
      "                                                                 \n",
      " max_pooling2d (MaxPooling2D  (None, 16, 16, 32)       0         \n",
      " )                                                               \n",
      "                                                                 \n",
      " conv2d_2 (Conv2D)           (None, 16, 16, 64)        18496     \n",
      "                                                                 \n",
      " max_pooling2d_1 (MaxPooling  (None, 8, 8, 64)         0         \n",
      " 2D)                                                             \n",
      "                                                                 \n",
      " conv2d_3 (Conv2D)           (None, 8, 8, 128)         73856     \n",
      "                                                                 \n",
      " max_pooling2d_2 (MaxPooling  (None, 4, 4, 128)        0         \n",
      " 2D)                                                             \n",
      "                                                                 \n",
      " conv2d_4 (Conv2D)           (None, 4, 4, 128)         147584    \n",
      "                                                                 \n",
      " max_pooling2d_3 (MaxPooling  (None, 2, 2, 128)        0         \n",
      " 2D)                                                             \n",
      "                                                                 \n",
      " conv2d_5 (Conv2D)           (None, 2, 2, 128)         147584    \n",
      "                                                                 \n",
      " max_pooling2d_4 (MaxPooling  (None, 1, 1, 128)        0         \n",
      " 2D)                                                             \n",
      "                                                                 \n",
      " flatten (Flatten)           (None, 128)               0         \n",
      "                                                                 \n",
      " dense (Dense)               (None, 256)               33024     \n",
      "                                                                 \n",
      " dense_1 (Dense)             (None, 100)               25700     \n",
      "                                                                 \n",
      "=================================================================\n",
      "Total params: 456,388\n",
      "Trainable params: 456,388\n",
      "Non-trainable params: 0\n",
      "_________________________________________________________________\n"
     ]
    }
   ],
   "source": [
    "#Build model\n",
    "\n",
    "model = Sequential()\n",
    "\n",
    "# Block 1\n",
    "model.add(Conv2D(32, (3, 3), activation='relu', padding='same', input_shape=(32, 32, 3)))\n",
    "model.add(Conv2D(32, (3, 3), activation='relu', padding='same'))\n",
    "model.add(MaxPooling2D(pool_size=(2, 2)))\n",
    "\n",
    "# Block 2\n",
    "model.add(Conv2D(64, (3, 3), activation='relu', padding='same'))\n",
    "model.add(MaxPooling2D(pool_size=(2, 2)))\n",
    "\n",
    "# Block 3\n",
    "model.add(Conv2D(128, (3, 3), activation='relu', padding='same'))\n",
    "model.add(MaxPooling2D(pool_size=(2, 2)))\n",
    "\n",
    "model.add(Conv2D(128, (3, 3), activation='relu', padding='same'))\n",
    "model.add(MaxPooling2D(pool_size=(2, 2)))\n",
    "\n",
    "model.add(Conv2D(128, (3, 3), activation='relu', padding='same'))\n",
    "model.add(MaxPooling2D(pool_size=(2, 2)))\n",
    "\n",
    "# Block 4\n",
    "model.add(Flatten())\n",
    "model.add(Dense(256, activation='relu'))\n",
    "\n",
    "# Block 5\n",
    "model.add(Dense(100, activation='softmax'))\n",
    "\n",
    "# Print the model summary\n",
    "model.summary()\n"
   ]
  },
  {
   "cell_type": "code",
   "execution_count": 7,
   "metadata": {},
   "outputs": [
    {
     "name": "stdout",
     "output_type": "stream",
     "text": [
      "Epoch 1/40\n"
     ]
    },
    {
     "name": "stderr",
     "output_type": "stream",
     "text": [
      "c:\\Users\\MSI\\anaconda3\\envs\\tf\\lib\\site-packages\\keras\\backend.py:5582: UserWarning: \"`sparse_categorical_crossentropy` received `from_logits=True`, but the `output` argument was produced by a Softmax activation and thus does not represent logits. Was this intended?\n",
      "  output, from_logits = _get_logits(\n"
     ]
    },
    {
     "name": "stdout",
     "output_type": "stream",
     "text": [
      "1563/1563 [==============================] - 14s 6ms/step - loss: 4.0468 - accuracy: 0.0685 - val_loss: 3.6696 - val_accuracy: 0.1260\n",
      "Epoch 2/40\n",
      "1563/1563 [==============================] - 9s 6ms/step - loss: 3.3633 - accuracy: 0.1785 - val_loss: 3.1732 - val_accuracy: 0.2203\n",
      "Epoch 3/40\n",
      "1563/1563 [==============================] - 9s 6ms/step - loss: 2.9682 - accuracy: 0.2547 - val_loss: 2.8940 - val_accuracy: 0.2682\n",
      "Epoch 4/40\n",
      "1563/1563 [==============================] - 9s 6ms/step - loss: 2.6963 - accuracy: 0.3073 - val_loss: 2.7576 - val_accuracy: 0.3013\n",
      "Epoch 5/40\n",
      "1563/1563 [==============================] - 9s 6ms/step - loss: 2.4811 - accuracy: 0.3514 - val_loss: 2.6428 - val_accuracy: 0.3288\n",
      "Epoch 6/40\n",
      "1563/1563 [==============================] - 9s 6ms/step - loss: 2.2971 - accuracy: 0.3907 - val_loss: 2.6702 - val_accuracy: 0.3232\n",
      "Epoch 7/40\n",
      "1563/1563 [==============================] - 9s 6ms/step - loss: 2.1400 - accuracy: 0.4240 - val_loss: 2.5418 - val_accuracy: 0.3634\n",
      "Epoch 8/40\n",
      "1563/1563 [==============================] - 9s 6ms/step - loss: 2.0091 - accuracy: 0.4517 - val_loss: 2.5868 - val_accuracy: 0.3611\n",
      "Epoch 9/40\n",
      "1563/1563 [==============================] - 9s 6ms/step - loss: 1.8853 - accuracy: 0.4799 - val_loss: 2.5615 - val_accuracy: 0.3641\n",
      "Epoch 10/40\n",
      "1563/1563 [==============================] - 9s 6ms/step - loss: 1.7636 - accuracy: 0.5096 - val_loss: 2.5939 - val_accuracy: 0.3710\n",
      "Epoch 11/40\n",
      "1563/1563 [==============================] - 9s 6ms/step - loss: 1.6593 - accuracy: 0.5285 - val_loss: 2.6602 - val_accuracy: 0.3714\n",
      "Epoch 12/40\n",
      "1563/1563 [==============================] - 9s 6ms/step - loss: 1.5577 - accuracy: 0.5574 - val_loss: 2.6793 - val_accuracy: 0.3688\n",
      "Epoch 13/40\n",
      "1563/1563 [==============================] - 9s 6ms/step - loss: 1.4719 - accuracy: 0.5780 - val_loss: 2.7850 - val_accuracy: 0.3681\n",
      "Epoch 14/40\n",
      "1563/1563 [==============================] - 9s 6ms/step - loss: 1.3874 - accuracy: 0.5980 - val_loss: 2.9112 - val_accuracy: 0.3671\n",
      "Epoch 15/40\n",
      "1563/1563 [==============================] - 9s 6ms/step - loss: 1.3065 - accuracy: 0.6144 - val_loss: 3.0886 - val_accuracy: 0.3540\n",
      "Epoch 16/40\n",
      "1563/1563 [==============================] - 10s 7ms/step - loss: 1.2459 - accuracy: 0.6307 - val_loss: 3.0851 - val_accuracy: 0.3591\n",
      "Epoch 17/40\n",
      "1563/1563 [==============================] - 12s 8ms/step - loss: 1.1701 - accuracy: 0.6502 - val_loss: 3.3263 - val_accuracy: 0.3485\n",
      "Epoch 18/40\n",
      "1563/1563 [==============================] - 10s 7ms/step - loss: 1.1126 - accuracy: 0.6643 - val_loss: 3.2372 - val_accuracy: 0.3603\n",
      "Epoch 19/40\n",
      "1563/1563 [==============================] - 11s 7ms/step - loss: 1.0660 - accuracy: 0.6765 - val_loss: 3.4585 - val_accuracy: 0.3521\n",
      "Epoch 20/40\n",
      "1563/1563 [==============================] - 12s 7ms/step - loss: 1.0224 - accuracy: 0.6896 - val_loss: 3.6418 - val_accuracy: 0.3535\n",
      "Epoch 21/40\n",
      "1563/1563 [==============================] - 9s 6ms/step - loss: 0.9752 - accuracy: 0.7037 - val_loss: 3.6790 - val_accuracy: 0.3524\n",
      "Epoch 22/40\n",
      "1563/1563 [==============================] - 9s 6ms/step - loss: 0.9533 - accuracy: 0.7073 - val_loss: 3.8988 - val_accuracy: 0.3522\n",
      "Epoch 23/40\n",
      "1563/1563 [==============================] - 9s 6ms/step - loss: 0.9052 - accuracy: 0.7209 - val_loss: 3.9254 - val_accuracy: 0.3522\n",
      "Epoch 24/40\n",
      "1563/1563 [==============================] - 9s 6ms/step - loss: 0.8699 - accuracy: 0.7298 - val_loss: 4.1176 - val_accuracy: 0.3422\n",
      "Epoch 25/40\n",
      "1563/1563 [==============================] - 9s 6ms/step - loss: 0.8516 - accuracy: 0.7342 - val_loss: 4.0983 - val_accuracy: 0.3440\n",
      "Epoch 26/40\n",
      "1563/1563 [==============================] - 9s 6ms/step - loss: 0.8198 - accuracy: 0.7445 - val_loss: 4.2185 - val_accuracy: 0.3452\n",
      "Epoch 27/40\n",
      "1563/1563 [==============================] - 9s 6ms/step - loss: 0.7971 - accuracy: 0.7523 - val_loss: 4.2495 - val_accuracy: 0.3383\n",
      "Epoch 28/40\n",
      "1563/1563 [==============================] - 9s 6ms/step - loss: 0.7784 - accuracy: 0.7577 - val_loss: 4.5783 - val_accuracy: 0.3361\n",
      "Epoch 29/40\n",
      "1563/1563 [==============================] - 9s 6ms/step - loss: 0.7747 - accuracy: 0.7571 - val_loss: 4.5301 - val_accuracy: 0.3342\n",
      "Epoch 30/40\n",
      "1563/1563 [==============================] - 9s 6ms/step - loss: 0.7409 - accuracy: 0.7677 - val_loss: 4.6273 - val_accuracy: 0.3394\n",
      "Epoch 31/40\n",
      "1563/1563 [==============================] - 9s 6ms/step - loss: 0.7476 - accuracy: 0.7653 - val_loss: 4.7182 - val_accuracy: 0.3429\n",
      "Epoch 32/40\n",
      "1563/1563 [==============================] - 9s 6ms/step - loss: 0.7110 - accuracy: 0.7770 - val_loss: 4.7829 - val_accuracy: 0.3404\n",
      "Epoch 33/40\n",
      "1563/1563 [==============================] - 9s 6ms/step - loss: 0.7031 - accuracy: 0.7825 - val_loss: 4.9673 - val_accuracy: 0.3323\n",
      "Epoch 34/40\n",
      "1563/1563 [==============================] - 9s 6ms/step - loss: 0.6944 - accuracy: 0.7838 - val_loss: 4.9169 - val_accuracy: 0.3331\n",
      "Epoch 35/40\n",
      "1563/1563 [==============================] - 9s 6ms/step - loss: 0.6924 - accuracy: 0.7843 - val_loss: 5.0662 - val_accuracy: 0.3366\n",
      "Epoch 36/40\n",
      "1563/1563 [==============================] - 9s 6ms/step - loss: 0.6895 - accuracy: 0.7869 - val_loss: 5.0602 - val_accuracy: 0.3338\n",
      "Epoch 37/40\n",
      "1563/1563 [==============================] - 9s 6ms/step - loss: 0.6636 - accuracy: 0.7945 - val_loss: 5.1338 - val_accuracy: 0.3420\n",
      "Epoch 38/40\n",
      "1563/1563 [==============================] - 9s 6ms/step - loss: 0.6569 - accuracy: 0.7940 - val_loss: 5.2290 - val_accuracy: 0.3348\n",
      "Epoch 39/40\n",
      "1563/1563 [==============================] - 9s 6ms/step - loss: 0.6510 - accuracy: 0.7984 - val_loss: 5.2213 - val_accuracy: 0.3344\n",
      "Epoch 40/40\n",
      "1563/1563 [==============================] - 10s 6ms/step - loss: 0.6408 - accuracy: 0.8009 - val_loss: 5.3170 - val_accuracy: 0.3337\n"
     ]
    }
   ],
   "source": [
    "#Compile the model\n",
    "model.compile(optimizer='adam',\n",
    "              loss=tf.keras.losses.SparseCategoricalCrossentropy(from_logits=True),\n",
    "              metrics=['accuracy'])\n",
    "\n",
    "#Train the model\n",
    "log_dir = \"logs/fit/\" + datetime.datetime.now().strftime(\"%Y%m%d-%H%M%S\")\n",
    "tensorboard_callback = TensorBoard(log_dir=log_dir, histogram_freq=1)\n",
    "history = model.fit(x_train, y_train, epochs=40, validation_data=(x_test, y_test), callbacks=[tensorboard_callback])\n",
    "#save loss & validation loss every \n",
    "train_loss = history.history['loss']\n",
    "val_loss = history.history['val_loss']"
   ]
  },
  {
   "cell_type": "code",
   "execution_count": 8,
   "metadata": {},
   "outputs": [
    {
     "name": "stdout",
     "output_type": "stream",
     "text": [
      "[3.669630765914917, 3.17323899269104, 2.8939859867095947, 2.7576229572296143, 2.64276123046875, 2.6702377796173096, 2.5417749881744385, 2.586824893951416, 2.561504602432251, 2.59385085105896, 2.6601924896240234, 2.6792829036712646, 2.7850265502929688, 2.9112160205841064, 3.088623285293579, 3.0851235389709473, 3.3262979984283447, 3.237189531326294, 3.458458662033081, 3.6417887210845947, 3.6789722442626953, 3.898790121078491, 3.925421953201294, 4.1175642013549805, 4.098296642303467, 4.218528747558594, 4.249526023864746, 4.578296661376953, 4.5301127433776855, 4.627282619476318, 4.718207836151123, 4.782879829406738, 4.967320442199707, 4.9169135093688965, 5.066151142120361, 5.0602498054504395, 5.133773326873779, 5.229004859924316, 5.221266746520996, 5.317042350769043]\n"
     ]
    }
   ],
   "source": [
    "print(val_loss)"
   ]
  },
  {
   "cell_type": "code",
   "execution_count": 9,
   "metadata": {},
   "outputs": [
    {
     "name": "stdout",
     "output_type": "stream",
     "text": [
      "313/313 - 1s - loss: 5.3170 - accuracy: 0.3337 - 761ms/epoch - 2ms/step\n",
      "\n",
      "Test accuracy: 0.3337000012397766\n"
     ]
    }
   ],
   "source": [
    "#Evaluate the model\n",
    "test_loss, test_acc = model.evaluate(x_test,  y_test, verbose=2)\n",
    "print('\\nTest accuracy:', test_acc)"
   ]
  },
  {
   "cell_type": "code",
   "execution_count": 10,
   "metadata": {},
   "outputs": [
    {
     "data": {
      "image/png": "[encoded data removed]",
      "text/plain": [
       "<Figure size 640x480 with 1 Axes>"
      ]
     },
     "metadata": {},
     "output_type": "display_data"
    }
   ],
   "source": [
    "#Plot the training history\n",
    "plt.plot(history.history['accuracy'], label='accuracy')\n",
    "plt.plot(history.history['val_accuracy'], label = 'val_accuracy')\n",
    "plt.xlabel('Epoch')\n",
    "plt.ylabel('Accuracy')\n",
    "plt.ylim([0, 1])\n",
    "plt.legend(loc='lower right')\n",
    "plt.show()\n"
   ]
  },
  {
   "cell_type": "code",
   "execution_count": 11,
   "metadata": {},
   "outputs": [
    {
     "data": {
      "image/png": "[encoded data removed]",
      "text/plain": [
       "<Figure size 640x480 with 1 Axes>"
      ]
     },
     "metadata": {},
     "output_type": "display_data"
    }
   ],
   "source": [
    "#plot loss\n",
    "plt.plot(train_loss, label='train loss')\n",
    "plt.plot(val_loss, label = 'val loss')  \n",
    "\n",
    "plt.xlabel('Epoch')\n",
    "plt.ylabel('Loss')\n",
    "#legend\n",
    "plt.legend(loc='upper left')\n",
    "#show plot\n",
    "plt.show()\n"
   ]
  },
  {
   "cell_type": "markdown",
   "metadata": {},
   "source": [
    "## Save the trained Model"
   ]
  },
  {
   "cell_type": "code",
   "execution_count": 12,
   "metadata": {},
   "outputs": [],
   "source": [
    "#save the trained model (Parameters) so I can use it again without training again\n",
    "model.save('cifar100_cnn.h5')\n",
    "#save the trained model (Weights) so I can use it again without training again\n",
    "model.save_weights('cifar100_cnn_weights.h5')\n"
   ]
  },
  {
   "cell_type": "markdown",
   "metadata": {},
   "source": [
    "## Load the trained Model"
   ]
  },
  {
   "cell_type": "code",
   "execution_count": 13,
   "metadata": {},
   "outputs": [],
   "source": [
    "#load the trained model (Parameters) so I can use it again without training again\n",
    "#model = keras.models.load_model('cifar100_cnn.h5')\n",
    "\n",
    "#load the trained model (Weights) so I can use it again without training again\n",
    "#model.load_weights('cifar100_cnn_weights.h5')"
   ]
  }
 ],
 "metadata": {
  "kernelspec": {
   "display_name": ".venv",
   "language": "python",
   "name": "python3"
  },
  "language_info": {
   "codemirror_mode": {
    "name": "ipython",
    "version": 3
   },
   "file_extension": ".py",
   "mimetype": "text/x-python",
   "name": "python",
   "nbconvert_exporter": "python",
   "pygments_lexer": "ipython3",
   "version": "3.9.19"
  }
 },
 "nbformat": 4,
 "nbformat_minor": 2
}
