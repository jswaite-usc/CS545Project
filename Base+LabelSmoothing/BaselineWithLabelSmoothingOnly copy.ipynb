{
 "cells": [
  {
   "cell_type": "code",
   "execution_count": 2,
   "metadata": {},
   "outputs": [
    {
     "name": "stdout",
     "output_type": "stream",
     "text": [
      "2.10.1\n"
     ]
    }
   ],
   "source": [
    "#We will make a basic CNN model to classify CIFAR-100#\n",
    "#We will use Keras from Tensorflow to build the model#\n",
    "\n",
    "import tensorflow as tf\n",
    "from tensorflow import keras\n",
    "from tensorflow.keras import layers\n",
    "from tensorflow.keras.datasets import cifar100\n",
    "from tensorflow.keras.models import Sequential\n",
    "from tensorflow.keras.layers import Dense, Flatten, Conv2D, MaxPooling2D, Dropout\n",
    "from tensorflow.keras.losses import sparse_categorical_crossentropy\n",
    "from tensorflow.keras.optimizers import Adam\n",
    "from tensorflow.keras.callbacks import TensorBoard\n",
    "import numpy as np\n",
    "import matplotlib.pyplot as plt\n",
    "import datetime\n",
    "\n",
    "#show the tensorflow version\n",
    "print(tf.__version__)\n"
   ]
  },
  {
   "cell_type": "code",
   "execution_count": 3,
   "metadata": {},
   "outputs": [
    {
     "name": "stdout",
     "output_type": "stream",
     "text": [
      "[name: \"/device:CPU:0\"\n",
      "device_type: \"CPU\"\n",
      "memory_limit: 268435456\n",
      "locality {\n",
      "}\n",
      "incarnation: 13987605156389543952\n",
      "xla_global_id: -1\n",
      ", name: \"/device:GPU:0\"\n",
      "device_type: \"GPU\"\n",
      "memory_limit: 5713690624\n",
      "locality {\n",
      "  bus_id: 1\n",
      "  links {\n",
      "  }\n",
      "}\n",
      "incarnation: 2567009239529556758\n",
      "physical_device_desc: \"device: 0, name: NVIDIA GeForce RTX 4060 Laptop GPU, pci bus id: 0000:01:00.0, compute capability: 8.9\"\n",
      "xla_global_id: 416903419\n",
      "]\n",
      "[PhysicalDevice(name='/physical_device:GPU:0', device_type='GPU')]\n"
     ]
    }
   ],
   "source": [
    "#Test if have GPU\n",
    "from tensorflow.python.client import device_lib\n",
    "print(device_lib.list_local_devices())\n",
    "import tensorflow as tf; print(tf.config.list_physical_devices('GPU'))"
   ]
  },
  {
   "cell_type": "code",
   "execution_count": 4,
   "metadata": {},
   "outputs": [
    {
     "name": "stdout",
     "output_type": "stream",
     "text": [
      "(50000, 32, 32, 3)\n",
      "(50000, 1)\n",
      "(10000, 32, 32, 3)\n",
      "(10000, 1)\n"
     ]
    }
   ],
   "source": [
    "#load the CIFAR-100 dataset & split into train and test sets\n",
    "(x_train, y_train), (x_test, y_test) = cifar100.load_data()\n",
    "\n",
    "#Normalize pixel values from 1-255 to 0-1\n",
    "x_train, x_test = x_train / 255.0, x_test / 255.0\n",
    "\n",
    "#show the shape of the dataset\n",
    "print(x_train.shape)\n",
    "print(y_train.shape)\n",
    "print(x_test.shape)\n",
    "print(y_test.shape) "
   ]
  },
  {
   "cell_type": "code",
   "execution_count": 4,
   "metadata": {},
   "outputs": [],
   "source": [
    "#shuffle train & test data\n",
    "\n",
    "# # Assuming x_train and y_train are your data\n",
    "# indices = np.arange(x_train.shape[0])\n",
    "# np.random.shuffle(indices)\n",
    "\n",
    "# # Let's say we want to select 10000 random samples\n",
    "# x_train_subset = x_train[indices[:10000]]\n",
    "# y_train_subset = y_train[indices[:10000]]"
   ]
  },
  {
   "cell_type": "code",
   "execution_count": 5,
   "metadata": {},
   "outputs": [
    {
     "name": "stdout",
     "output_type": "stream",
     "text": [
      "Model: \"sequential\"\n",
      "_________________________________________________________________\n",
      " Layer (type)                Output Shape              Param #   \n",
      "=================================================================\n",
      " conv2d (Conv2D)             (None, 32, 32, 32)        896       \n",
      "                                                                 \n",
      " conv2d_1 (Conv2D)           (None, 32, 32, 32)        9248      \n",
      "                                                                 \n",
      " max_pooling2d (MaxPooling2D  (None, 16, 16, 32)       0         \n",
      " )                                                               \n",
      "                                                                 \n",
      " conv2d_2 (Conv2D)           (None, 16, 16, 64)        18496     \n",
      "                                                                 \n",
      " max_pooling2d_1 (MaxPooling  (None, 8, 8, 64)         0         \n",
      " 2D)                                                             \n",
      "                                                                 \n",
      " conv2d_3 (Conv2D)           (None, 8, 8, 128)         73856     \n",
      "                                                                 \n",
      " max_pooling2d_2 (MaxPooling  (None, 4, 4, 128)        0         \n",
      " 2D)                                                             \n",
      "                                                                 \n",
      " conv2d_4 (Conv2D)           (None, 4, 4, 128)         147584    \n",
      "                                                                 \n",
      " max_pooling2d_3 (MaxPooling  (None, 2, 2, 128)        0         \n",
      " 2D)                                                             \n",
      "                                                                 \n",
      " conv2d_5 (Conv2D)           (None, 2, 2, 128)         147584    \n",
      "                                                                 \n",
      " max_pooling2d_4 (MaxPooling  (None, 1, 1, 128)        0         \n",
      " 2D)                                                             \n",
      "                                                                 \n",
      " flatten (Flatten)           (None, 128)               0         \n",
      "                                                                 \n",
      " dense (Dense)               (None, 256)               33024     \n",
      "                                                                 \n",
      " dense_1 (Dense)             (None, 100)               25700     \n",
      "                                                                 \n",
      "=================================================================\n",
      "Total params: 456,388\n",
      "Trainable params: 456,388\n",
      "Non-trainable params: 0\n",
      "_________________________________________________________________\n"
     ]
    }
   ],
   "source": [
    "#Build model\n",
    "\n",
    "model = Sequential()\n",
    "\n",
    "# Block 1\n",
    "model.add(Conv2D(32, (3, 3), activation='relu', padding='same', input_shape=(32, 32, 3)))\n",
    "model.add(Conv2D(32, (3, 3), activation='relu', padding='same'))\n",
    "model.add(MaxPooling2D(pool_size=(2, 2)))\n",
    "\n",
    "# Block 2\n",
    "model.add(Conv2D(64, (3, 3), activation='relu', padding='same'))\n",
    "model.add(MaxPooling2D(pool_size=(2, 2)))\n",
    "\n",
    "# Block 3\n",
    "model.add(Conv2D(128, (3, 3), activation='relu', padding='same'))\n",
    "model.add(MaxPooling2D(pool_size=(2, 2)))\n",
    "\n",
    "model.add(Conv2D(128, (3, 3), activation='relu', padding='same'))\n",
    "model.add(MaxPooling2D(pool_size=(2, 2)))\n",
    "\n",
    "model.add(Conv2D(128, (3, 3), activation='relu', padding='same'))\n",
    "model.add(MaxPooling2D(pool_size=(2, 2)))\n",
    "\n",
    "# Block 4\n",
    "model.add(Flatten())\n",
    "model.add(Dense(256, activation='relu'))\n",
    "\n",
    "# Block 5\n",
    "model.add(Dense(100, activation='softmax'))\n",
    "\n",
    "# Print the model summary\n",
    "model.summary()\n"
   ]
  },
  {
   "cell_type": "code",
   "execution_count": 6,
   "metadata": {},
   "outputs": [
    {
     "name": "stdout",
     "output_type": "stream",
     "text": [
      "Epoch 1/40\n"
     ]
    },
    {
     "name": "stderr",
     "output_type": "stream",
     "text": [
      "c:\\Users\\MSI\\anaconda3\\envs\\tf\\lib\\site-packages\\keras\\backend.py:5582: UserWarning: \"`sparse_categorical_crossentropy` received `from_logits=True`, but the `output` argument was produced by a Softmax activation and thus does not represent logits. Was this intended?\n",
      "  output, from_logits = _get_logits(\n"
     ]
    },
    {
     "name": "stdout",
     "output_type": "stream",
     "text": [
      "1563/1563 [==============================] - 17s 7ms/step - loss: 4.1406 - accuracy: 0.0518 - val_loss: 3.7454 - val_accuracy: 0.1134\n",
      "Epoch 2/40\n",
      "1563/1563 [==============================] - 12s 8ms/step - loss: 3.4528 - accuracy: 0.1632 - val_loss: 3.2150 - val_accuracy: 0.2062\n",
      "Epoch 3/40\n",
      "1563/1563 [==============================] - 11s 7ms/step - loss: 3.0532 - accuracy: 0.2372 - val_loss: 3.0014 - val_accuracy: 0.2527\n",
      "Epoch 4/40\n",
      "1563/1563 [==============================] - 10s 7ms/step - loss: 2.7655 - accuracy: 0.2928 - val_loss: 2.7789 - val_accuracy: 0.2937\n",
      "Epoch 5/40\n",
      "1563/1563 [==============================] - 11s 7ms/step - loss: 2.5363 - accuracy: 0.3392 - val_loss: 2.7338 - val_accuracy: 0.3142\n",
      "Epoch 6/40\n",
      "1563/1563 [==============================] - 11s 7ms/step - loss: 2.3444 - accuracy: 0.3799 - val_loss: 2.6433 - val_accuracy: 0.3316\n",
      "Epoch 7/40\n",
      "1563/1563 [==============================] - 12s 8ms/step - loss: 2.1846 - accuracy: 0.4149 - val_loss: 2.5445 - val_accuracy: 0.3607\n",
      "Epoch 8/40\n",
      "1563/1563 [==============================] - 11s 7ms/step - loss: 2.0444 - accuracy: 0.4428 - val_loss: 2.5539 - val_accuracy: 0.3606\n",
      "Epoch 9/40\n",
      "1563/1563 [==============================] - 11s 7ms/step - loss: 1.9087 - accuracy: 0.4756 - val_loss: 2.6349 - val_accuracy: 0.3618\n",
      "Epoch 10/40\n",
      "1563/1563 [==============================] - 11s 7ms/step - loss: 1.7949 - accuracy: 0.4996 - val_loss: 2.5982 - val_accuracy: 0.3659\n",
      "Epoch 11/40\n",
      "1563/1563 [==============================] - 11s 7ms/step - loss: 1.6823 - accuracy: 0.5248 - val_loss: 2.6896 - val_accuracy: 0.3598\n",
      "Epoch 12/40\n",
      "1563/1563 [==============================] - 12s 7ms/step - loss: 1.5823 - accuracy: 0.5504 - val_loss: 2.6805 - val_accuracy: 0.3710\n",
      "Epoch 13/40\n",
      "1563/1563 [==============================] - 12s 8ms/step - loss: 1.4810 - accuracy: 0.5736 - val_loss: 2.8044 - val_accuracy: 0.3701\n",
      "Epoch 14/40\n",
      "1563/1563 [==============================] - 13s 8ms/step - loss: 1.3923 - accuracy: 0.5946 - val_loss: 2.9104 - val_accuracy: 0.3645\n",
      "Epoch 15/40\n",
      "1563/1563 [==============================] - 12s 8ms/step - loss: 1.3218 - accuracy: 0.6138 - val_loss: 3.0016 - val_accuracy: 0.3606\n",
      "Epoch 16/40\n",
      "1563/1563 [==============================] - 12s 8ms/step - loss: 1.2493 - accuracy: 0.6321 - val_loss: 3.0853 - val_accuracy: 0.3685\n",
      "Epoch 17/40\n",
      "1563/1563 [==============================] - 10s 7ms/step - loss: 1.1867 - accuracy: 0.6470 - val_loss: 3.2763 - val_accuracy: 0.3566\n",
      "Epoch 18/40\n",
      "1563/1563 [==============================] - 9s 6ms/step - loss: 1.1289 - accuracy: 0.6638 - val_loss: 3.4031 - val_accuracy: 0.3569\n",
      "Epoch 19/40\n",
      "1563/1563 [==============================] - 9s 6ms/step - loss: 1.0736 - accuracy: 0.6771 - val_loss: 3.4602 - val_accuracy: 0.3570\n",
      "Epoch 20/40\n",
      "1563/1563 [==============================] - 9s 6ms/step - loss: 1.0137 - accuracy: 0.6924 - val_loss: 3.5699 - val_accuracy: 0.3508\n",
      "Epoch 21/40\n",
      "1563/1563 [==============================] - 9s 6ms/step - loss: 0.9750 - accuracy: 0.7034 - val_loss: 3.8508 - val_accuracy: 0.3461\n",
      "Epoch 22/40\n",
      "1563/1563 [==============================] - 10s 6ms/step - loss: 0.9480 - accuracy: 0.7093 - val_loss: 3.7774 - val_accuracy: 0.3524\n",
      "Epoch 23/40\n",
      "1563/1563 [==============================] - 10s 6ms/step - loss: 0.8955 - accuracy: 0.7248 - val_loss: 3.9392 - val_accuracy: 0.3444\n",
      "Epoch 24/40\n",
      "1563/1563 [==============================] - 9s 6ms/step - loss: 0.8897 - accuracy: 0.7277 - val_loss: 3.9966 - val_accuracy: 0.3432\n",
      "Epoch 25/40\n",
      "1563/1563 [==============================] - 10s 6ms/step - loss: 0.8367 - accuracy: 0.7409 - val_loss: 4.1643 - val_accuracy: 0.3440\n",
      "Epoch 26/40\n",
      "1563/1563 [==============================] - 10s 6ms/step - loss: 0.8425 - accuracy: 0.7403 - val_loss: 4.2825 - val_accuracy: 0.3401\n",
      "Epoch 27/40\n",
      "1563/1563 [==============================] - 10s 7ms/step - loss: 0.7943 - accuracy: 0.7550 - val_loss: 4.4945 - val_accuracy: 0.3392\n",
      "Epoch 28/40\n",
      "1563/1563 [==============================] - 11s 7ms/step - loss: 0.7895 - accuracy: 0.7564 - val_loss: 4.6029 - val_accuracy: 0.3414\n",
      "Epoch 29/40\n",
      "1563/1563 [==============================] - 10s 7ms/step - loss: 0.7684 - accuracy: 0.7620 - val_loss: 4.5319 - val_accuracy: 0.3389\n",
      "Epoch 30/40\n",
      "1563/1563 [==============================] - 10s 6ms/step - loss: 0.7578 - accuracy: 0.7675 - val_loss: 4.5890 - val_accuracy: 0.3363\n",
      "Epoch 31/40\n",
      "1563/1563 [==============================] - 11s 7ms/step - loss: 0.7182 - accuracy: 0.7756 - val_loss: 4.8502 - val_accuracy: 0.3418\n",
      "Epoch 32/40\n",
      "1563/1563 [==============================] - 11s 7ms/step - loss: 0.7319 - accuracy: 0.7729 - val_loss: 4.7854 - val_accuracy: 0.3384\n",
      "Epoch 33/40\n",
      "1563/1563 [==============================] - 10s 6ms/step - loss: 0.7062 - accuracy: 0.7818 - val_loss: 4.9987 - val_accuracy: 0.3312\n",
      "Epoch 34/40\n",
      "1563/1563 [==============================] - 10s 6ms/step - loss: 0.6835 - accuracy: 0.7893 - val_loss: 5.2291 - val_accuracy: 0.3389\n",
      "Epoch 35/40\n",
      "1563/1563 [==============================] - 10s 6ms/step - loss: 0.6878 - accuracy: 0.7879 - val_loss: 5.0784 - val_accuracy: 0.3346\n",
      "Epoch 36/40\n",
      "1563/1563 [==============================] - 10s 6ms/step - loss: 0.6776 - accuracy: 0.7904 - val_loss: 5.1666 - val_accuracy: 0.3347\n",
      "Epoch 37/40\n",
      "1563/1563 [==============================] - 10s 7ms/step - loss: 0.6712 - accuracy: 0.7916 - val_loss: 5.3106 - val_accuracy: 0.3271\n",
      "Epoch 38/40\n",
      "1563/1563 [==============================] - 10s 6ms/step - loss: 0.6575 - accuracy: 0.7962 - val_loss: 5.1899 - val_accuracy: 0.3381\n",
      "Epoch 39/40\n",
      "1563/1563 [==============================] - 10s 6ms/step - loss: 0.6595 - accuracy: 0.7958 - val_loss: 5.2919 - val_accuracy: 0.3354\n",
      "Epoch 40/40\n",
      "1563/1563 [==============================] - 10s 6ms/step - loss: 0.6439 - accuracy: 0.8024 - val_loss: 5.4703 - val_accuracy: 0.3289\n"
     ]
    }
   ],
   "source": [
    "#Compile the model\n",
    "model.compile(optimizer='adam',\n",
    "              loss=tf.keras.losses.SparseCategoricalCrossentropy(from_logits=True),\n",
    "              metrics=['accuracy'])\n",
    "\n",
    "#Train the model\n",
    "log_dir = \"logs/fit/\" + datetime.datetime.now().strftime(\"%Y%m%d-%H%M%S\")\n",
    "tensorboard_callback = TensorBoard(log_dir=log_dir, histogram_freq=1)\n",
    "history = model.fit(x_train, y_train, epochs=40, validation_data=(x_test, y_test), callbacks=[tensorboard_callback])\n",
    "#save loss & validation loss every \n",
    "train_loss = history.history['loss']\n",
    "val_loss = history.history['val_loss']"
   ]
  },
  {
   "cell_type": "code",
   "execution_count": 7,
   "metadata": {},
   "outputs": [
    {
     "name": "stdout",
     "output_type": "stream",
     "text": [
      "[3.7454440593719482, 3.2150261402130127, 3.001356601715088, 2.7788593769073486, 2.7338380813598633, 2.64327335357666, 2.544508218765259, 2.55387282371521, 2.634860038757324, 2.5981948375701904, 2.689633369445801, 2.6805014610290527, 2.804408311843872, 2.910388708114624, 3.0015599727630615, 3.085251569747925, 3.276285409927368, 3.403085947036743, 3.460239887237549, 3.569857120513916, 3.850787878036499, 3.777381658554077, 3.939168691635132, 3.996596574783325, 4.164283275604248, 4.28247594833374, 4.494472503662109, 4.602880954742432, 4.531852722167969, 4.588955879211426, 4.850240707397461, 4.785402297973633, 4.998676300048828, 5.229121685028076, 5.078365802764893, 5.166639804840088, 5.310577869415283, 5.189931869506836, 5.29189395904541, 5.470278263092041]\n"
     ]
    }
   ],
   "source": [
    "print(val_loss)"
   ]
  },
  {
   "cell_type": "code",
   "execution_count": 8,
   "metadata": {},
   "outputs": [
    {
     "name": "stdout",
     "output_type": "stream",
     "text": [
      "313/313 - 1s - loss: 5.4703 - accuracy: 0.3289 - 818ms/epoch - 3ms/step\n",
      "\n",
      "Test accuracy: 0.328900009393692\n"
     ]
    }
   ],
   "source": [
    "#Evaluate the model\n",
    "test_loss, test_acc = model.evaluate(x_test,  y_test, verbose=2)\n",
    "print('\\nTest accuracy:', test_acc)"
   ]
  },
  {
   "cell_type": "code",
   "execution_count": 9,
   "metadata": {},
   "outputs": [
    {
     "data": {
      "image/png": "[encoded data removed]",
      "text/plain": [
       "<Figure size 640x480 with 1 Axes>"
      ]
     },
     "metadata": {},
     "output_type": "display_data"
    }
   ],
   "source": [
    "#Plot the training history\n",
    "plt.plot(history.history['accuracy'], label='accuracy')\n",
    "plt.plot(history.history['val_accuracy'], label = 'val_accuracy')\n",
    "plt.xlabel('Epoch')\n",
    "plt.ylabel('Accuracy')\n",
    "plt.ylim([0, 1])\n",
    "plt.legend(loc='lower right')\n",
    "plt.show()\n"
   ]
  },
  {
   "cell_type": "code",
   "execution_count": 10,
   "metadata": {},
   "outputs": [
    {
     "data": {
      "image/png": "[encoded data removed]",
      "text/plain": [
       "<Figure size 640x480 with 1 Axes>"
      ]
     },
     "metadata": {},
     "output_type": "display_data"
    }
   ],
   "source": [
    "#plot loss\n",
    "plt.plot(train_loss, label='train loss')\n",
    "plt.plot(val_loss, label = 'val loss')  \n",
    "\n",
    "plt.xlabel('Epoch')\n",
    "plt.ylabel('Loss')\n",
    "#legend\n",
    "plt.legend(loc='upper left')\n",
    "#show plot\n",
    "plt.show()\n"
   ]
  },
  {
   "cell_type": "code",
   "execution_count": null,
   "metadata": {},
   "outputs": [],
   "source": [
    "## CONFUSION MATRIX\n",
    "# Load both fine and coarse labels\n",
    "(x_train_fine, y_train_fine), (x_test_fine, y_test_fine) = cifar100.load_data(label_mode='fine')\n",
    "(x_train_coarse, y_train_coarse), (x_test_coarse, y_test_coarse) = cifar100.load_data(label_mode='coarse')\n",
    "\n",
    "# Establish a mapping from fine labels to coarse labels\n",
    "class_to_superclass = {}\n",
    "for fine, coarse in zip(y_train_fine.flatten(), y_train_coarse.flatten()):\n",
    "    if fine not in class_to_superclass:\n",
    "        class_to_superclass[fine] = coarse\n",
    "\n",
    "# Optional: Check the mapping (for understanding/debugging)\n",
    "print(\"Sample of class to superclass mapping:\", {k: class_to_superclass[k] for k in list(class_to_superclass)[:5]})\n",
    "\n",
    "# Predict the classes using the trained model\n",
    "y_pred = model.predict(x_test_fine)\n",
    "y_pred_classes = np.argmax(y_pred, axis=1)\n",
    "y_pred_super = np.vectorize(class_to_superclass.get)(y_pred_classes)\n",
    "\n",
    "from sklearn.metrics import confusion_matrix, ConfusionMatrixDisplay\n",
    "import matplotlib.pyplot as plt\n",
    "\n",
    "# Compute the confusion matrix for superclasses\n",
    "cm_super = confusion_matrix(y_test_coarse, y_pred_super)\n",
    "\n",
    "# Display the confusion matrix\n",
    "plt.figure(figsize=(10, 10))\n",
    "disp = ConfusionMatrixDisplay(confusion_matrix=cm_super)\n",
    "disp.plot(cmap=plt.cm.Blues)\n",
    "plt.title('Confusion Matrix for Superclasses')\n",
    "plt.xlabel('Predicted Superclass')\n",
    "plt.ylabel('True Superclass')\n",
    "plt.show()\n",
    "\n"
   ]
  },
  {
   "cell_type": "markdown",
   "metadata": {},
   "source": [
    "## Save the trained Model"
   ]
  },
  {
   "cell_type": "code",
   "execution_count": 1,
   "metadata": {},
   "outputs": [
    {
     "ename": "NameError",
     "evalue": "name 'model' is not defined",
     "output_type": "error",
     "traceback": [
      "\u001b[1;31m---------------------------------------------------------------------------\u001b[0m",
      "\u001b[1;31mNameError\u001b[0m                                 Traceback (most recent call last)",
      "Cell \u001b[1;32mIn[1], line 2\u001b[0m\n\u001b[0;32m      1\u001b[0m \u001b[38;5;66;03m#save the trained model (Parameters) so I can use it again without training again\u001b[39;00m\n\u001b[1;32m----> 2\u001b[0m \u001b[43mmodel\u001b[49m\u001b[38;5;241m.\u001b[39msave(\u001b[38;5;124m'\u001b[39m\u001b[38;5;124mcifar100_cnn.h5\u001b[39m\u001b[38;5;124m'\u001b[39m)\n\u001b[0;32m      3\u001b[0m \u001b[38;5;66;03m#save the trained model (Weights) so I can use it again without training again\u001b[39;00m\n\u001b[0;32m      4\u001b[0m model\u001b[38;5;241m.\u001b[39msave_weights(\u001b[38;5;124m'\u001b[39m\u001b[38;5;124mcifar100_cnn_weights.h5\u001b[39m\u001b[38;5;124m'\u001b[39m)\n",
      "\u001b[1;31mNameError\u001b[0m: name 'model' is not defined"
     ]
    }
   ],
   "source": [
    "#save the trained model (Parameters) so I can use it again without training again\n",
    "model.save('cifar100_cnn.h5')\n",
    "#save the trained model (Weights) so I can use it again without training again\n",
    "model.save_weights('cifar100_cnn_weights.h5')\n"
   ]
  },
  {
   "cell_type": "markdown",
   "metadata": {},
   "source": [
    "## Load the trained Model"
   ]
  },
  {
   "cell_type": "code",
   "execution_count": null,
   "metadata": {},
   "outputs": [],
   "source": [
    "#load the trained model (Parameters) so I can use it again without training again\n",
    "#model = keras.models.load_model('cifar100_cnn.h5')\n",
    "\n",
    "#load the trained model (Weights) so I can use it again without training again\n",
    "#model.load_weights('cifar100_cnn_weights.h5')"
   ]
  },
  {
   "cell_type": "code",
   "execution_count": null,
   "metadata": {},
   "outputs": [],
   "source": []
  }
 ],
 "metadata": {
  "kernelspec": {
   "display_name": ".venv",
   "language": "python",
   "name": "python3"
  },
  "language_info": {
   "codemirror_mode": {
    "name": "ipython",
    "version": 3
   },
   "file_extension": ".py",
   "mimetype": "text/x-python",
   "name": "python",
   "nbconvert_exporter": "python",
   "pygments_lexer": "ipython3",
   "version": "3.9.19"
  }
 },
 "nbformat": 4,
 "nbformat_minor": 2
}
