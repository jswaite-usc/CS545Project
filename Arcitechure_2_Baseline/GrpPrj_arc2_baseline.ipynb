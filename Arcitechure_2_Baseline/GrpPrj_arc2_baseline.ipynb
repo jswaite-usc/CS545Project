{
  "cells": [
    {
      "cell_type": "code",
      "execution_count": null,
      "metadata": {
        "colab": {
          "base_uri": "https://localhost:8080/"
        },
        "id": "5FE2zXxFkkfo",
        "outputId": "378bd464-7582-42f8-af19-69ac7bcb27a9"
      },
      "outputs": [
        {
          "name": "stdout",
          "output_type": "stream",
          "text": [
            "2.15.0\n"
          ]
        }
      ],
      "source": [
        "#We will make a basic CNN model to classify CIFAR-100#\n",
        "#We will use Keras from Tensorflow to build the model#\n",
        "\n",
        "import tensorflow as tf\n",
        "from tensorflow import keras\n",
        "from tensorflow.keras import layers\n",
        "from tensorflow.keras.datasets import cifar100\n",
        "from tensorflow.keras.models import Sequential\n",
        "from tensorflow.keras.layers import Dense, Flatten, Conv2D, MaxPooling2D, Dropout\n",
        "from tensorflow.keras.losses import sparse_categorical_crossentropy\n",
        "from tensorflow.keras.optimizers import Adam\n",
        "from tensorflow.keras.callbacks import TensorBoard\n",
        "import numpy as np\n",
        "import matplotlib.pyplot as plt\n",
        "import datetime\n",
        "\n",
        "#show the tensorflow version\n",
        "print(tf.__version__)"
      ]
    },
    {
      "cell_type": "code",
      "execution_count": null,
      "metadata": {
        "colab": {
          "base_uri": "https://localhost:8080/"
        },
        "id": "TmnZ1bRfkkfv",
        "outputId": "ba55b6fa-492c-449d-f1bf-f5526f95ef69"
      },
      "outputs": [
        {
          "name": "stdout",
          "output_type": "stream",
          "text": [
            "[]\n"
          ]
        }
      ],
      "source": [
        "#Test if have GPU\n",
        "print(tf.config.list_physical_devices('GPU'))"
      ]
    },
    {
      "cell_type": "code",
      "execution_count": null,
      "metadata": {
        "colab": {
          "base_uri": "https://localhost:8080/"
        },
        "id": "7IweHfQ7kkfx",
        "outputId": "29d4c3c1-4729-499b-e53a-e718f40e7e18"
      },
      "outputs": [
        {
          "name": "stdout",
          "output_type": "stream",
          "text": [
            "(50000, 32, 32, 3)\n",
            "(50000, 1)\n",
            "(10000, 32, 32, 3)\n",
            "(10000, 1)\n"
          ]
        }
      ],
      "source": [
        "#load the CIFAR-100 dataset & split into train and test sets\n",
        "(x_train, y_train), (x_test, y_test) = cifar100.load_data()\n",
        "\n",
        "#Normalize pixel values from 1-255 to 0-1\n",
        "x_train, x_test = x_train / 255.0, x_test / 255.0\n",
        "\n",
        "#show the shape of the dataset\n",
        "print(x_train.shape)\n",
        "print(y_train.shape)\n",
        "print(x_test.shape)\n",
        "print(y_test.shape)"
      ]
    },
    {
      "cell_type": "code",
      "execution_count": null,
      "metadata": {
        "id": "KoGEsouYkkfz"
      },
      "outputs": [],
      "source": [
        "#shuffle train & test data\n",
        "\n",
        "# # Assuming x_train and y_train are your data\n",
        "# indices = np.arange(x_train.shape[0])\n",
        "# np.random.shuffle(indices)\n",
        "\n",
        "# # Let's say we want to select 10000 random samples\n",
        "# x_train_subset = x_train[indices[:10000]]\n",
        "# y_train_subset = y_train[indices[:10000]]"
      ]
    },
    {
      "cell_type": "code",
      "execution_count": 16,
      "metadata": {
        "colab": {
          "base_uri": "https://localhost:8080/"
        },
        "id": "ib-MfmILkkf0",
        "outputId": "7055ee3c-48a5-4e69-ffaa-b0d90b5198dd"
      },
      "outputs": [
        {
          "output_type": "stream",
          "name": "stdout",
          "text": [
            "Model: \"sequential_6\"\n",
            "_________________________________________________________________\n",
            " Layer (type)                Output Shape              Param #   \n",
            "=================================================================\n",
            " conv2d_41 (Conv2D)          (None, 32, 32, 32)        896       \n",
            "                                                                 \n",
            " conv2d_42 (Conv2D)          (None, 32, 32, 32)        9248      \n",
            "                                                                 \n",
            " max_pooling2d_18 (MaxPooli  (None, 16, 16, 32)        0         \n",
            " ng2D)                                                           \n",
            "                                                                 \n",
            " conv2d_43 (Conv2D)          (None, 16, 16, 64)        18496     \n",
            "                                                                 \n",
            " conv2d_44 (Conv2D)          (None, 16, 16, 64)        36928     \n",
            "                                                                 \n",
            " max_pooling2d_19 (MaxPooli  (None, 8, 8, 64)          0         \n",
            " ng2D)                                                           \n",
            "                                                                 \n",
            " conv2d_45 (Conv2D)          (None, 8, 8, 64)          36928     \n",
            "                                                                 \n",
            " max_pooling2d_20 (MaxPooli  (None, 4, 4, 64)          0         \n",
            " ng2D)                                                           \n",
            "                                                                 \n",
            " conv2d_46 (Conv2D)          (None, 1, 1, 512)         524800    \n",
            "                                                                 \n",
            " dropout_9 (Dropout)         (None, 1, 1, 512)         0         \n",
            "                                                                 \n",
            " conv2d_47 (Conv2D)          (None, 1, 1, 512)         262656    \n",
            "                                                                 \n",
            " dropout_10 (Dropout)        (None, 1, 1, 512)         0         \n",
            "                                                                 \n",
            " flatten_5 (Flatten)         (None, 512)               0         \n",
            "                                                                 \n",
            " dense_10 (Dense)            (None, 256)               131328    \n",
            "                                                                 \n",
            " dense_11 (Dense)            (None, 100)               25700     \n",
            "                                                                 \n",
            "=================================================================\n",
            "Total params: 1046980 (3.99 MB)\n",
            "Trainable params: 1046980 (3.99 MB)\n",
            "Non-trainable params: 0 (0.00 Byte)\n",
            "_________________________________________________________________\n"
          ]
        }
      ],
      "source": [
        "#Build model\n",
        "\n",
        "model = Sequential()\n",
        "\n",
        "# Block 1\n",
        "model.add(Conv2D(32, (3, 3), activation='relu', padding='same', input_shape=(32, 32, 3)))\n",
        "model.add(Conv2D(32, (3, 3), activation='relu', padding='same'))\n",
        "model.add(MaxPooling2D(pool_size=(2, 2)))\n",
        "\n",
        "# Block 2\n",
        "model.add(Conv2D(64, (3, 3), activation='relu', padding='same'))\n",
        "model.add(Conv2D(64, (3, 3), activation='relu', padding='same'))\n",
        "model.add(MaxPooling2D(pool_size=(2, 2)))\n",
        "\n",
        "\n",
        "# Block 2.5\n",
        "model.add(Conv2D(64, (3, 3), activation='relu', padding='same'))\n",
        "model.add(MaxPooling2D(pool_size=(2, 2)))\n",
        "\n",
        "# Block 3\n",
        "model.add(Conv2D(512, (4, 4), activation='relu', padding='valid'))\n",
        "# model.add(Dropout(0.15))\n",
        "model.add(Conv2D(512, (1, 1), activation='relu', padding='same'))\n",
        "# model.add(Dropout(0.15))\n",
        "\n",
        "# Block 4\n",
        "model.add(Flatten())\n",
        "model.add(Dense(256, activation='relu'))\n",
        "\n",
        "# Block 5\n",
        "model.add(Dense(100, activation='softmax'))\n",
        "\n",
        "# Print the model summary\n",
        "model.summary()\n"
      ]
    },
    {
      "cell_type": "code",
      "execution_count": 17,
      "metadata": {
        "colab": {
          "base_uri": "https://localhost:8080/"
        },
        "id": "dAdE-8bPkkf2",
        "outputId": "04f623fc-a4d8-4163-9eb8-62ef206437be"
      },
      "outputs": [
        {
          "output_type": "stream",
          "name": "stdout",
          "text": [
            "Epoch 1/10\n",
            "1563/1563 [==============================] - 336s 213ms/step - loss: 4.1545 - accuracy: 0.0523 - val_loss: 3.7924 - val_accuracy: 0.0979\n",
            "Epoch 2/10\n",
            "1563/1563 [==============================] - 323s 207ms/step - loss: 3.5936 - accuracy: 0.1370 - val_loss: 3.3551 - val_accuracy: 0.1845\n",
            "Epoch 3/10\n",
            "1563/1563 [==============================] - 329s 211ms/step - loss: 3.2668 - accuracy: 0.1989 - val_loss: 3.1475 - val_accuracy: 0.2302\n",
            "Epoch 4/10\n",
            "1563/1563 [==============================] - 338s 217ms/step - loss: 3.0528 - accuracy: 0.2393 - val_loss: 2.9879 - val_accuracy: 0.2605\n",
            "Epoch 5/10\n",
            "1563/1563 [==============================] - 326s 208ms/step - loss: 2.8825 - accuracy: 0.2738 - val_loss: 2.9387 - val_accuracy: 0.2705\n",
            "Epoch 6/10\n",
            "1563/1563 [==============================] - 315s 201ms/step - loss: 2.7451 - accuracy: 0.3005 - val_loss: 2.8249 - val_accuracy: 0.2965\n",
            "Epoch 7/10\n",
            "1563/1563 [==============================] - 319s 204ms/step - loss: 2.6202 - accuracy: 0.3247 - val_loss: 2.7325 - val_accuracy: 0.3150\n",
            "Epoch 8/10\n",
            "1563/1563 [==============================] - 313s 200ms/step - loss: 2.5085 - accuracy: 0.3489 - val_loss: 2.6862 - val_accuracy: 0.3242\n",
            "Epoch 9/10\n",
            "1563/1563 [==============================] - 332s 212ms/step - loss: 2.4233 - accuracy: 0.3640 - val_loss: 2.7024 - val_accuracy: 0.3241\n",
            "Epoch 10/10\n",
            "1563/1563 [==============================] - 333s 213ms/step - loss: 2.3242 - accuracy: 0.3870 - val_loss: 2.6645 - val_accuracy: 0.3369\n"
          ]
        }
      ],
      "source": [
        "#Compile the model\n",
        "model.compile(optimizer='adam',\n",
        "              loss=tf.keras.losses.SparseCategoricalCrossentropy(from_logits=True),\n",
        "              metrics=['accuracy'])\n",
        "\n",
        "#Train the model\n",
        "log_dir = \"logs/fit/\" + datetime.datetime.now().strftime(\"%Y%m%d-%H%M%S\")\n",
        "tensorboard_callback = TensorBoard(log_dir=log_dir, histogram_freq=1)\n",
        "history = model.fit(x_train, y_train, epochs=10, validation_data=(x_test, y_test), callbacks=[tensorboard_callback])\n",
        "#save loss & validation loss every\n",
        "train_loss = history.history['loss']\n",
        "val_loss = history.history['val_loss']"
      ]
    },
    {
      "cell_type": "code",
      "execution_count": 1,
      "metadata": {
        "colab": {
          "base_uri": "https://localhost:8080/",
          "height": 144
        },
        "id": "IYy9YP44kkf3",
        "outputId": "6245661e-909e-4c1e-f582-ee8878a893b3"
      },
      "outputs": [
        {
          "output_type": "error",
          "ename": "NameError",
          "evalue": "name 'val_loss' is not defined",
          "traceback": [
            "\u001b[0;31m---------------------------------------------------------------------------\u001b[0m",
            "\u001b[0;31mNameError\u001b[0m                                 Traceback (most recent call last)",
            "\u001b[0;32m<ipython-input-1-2777f529031c>\u001b[0m in \u001b[0;36m<cell line: 1>\u001b[0;34m()\u001b[0m\n\u001b[0;32m----> 1\u001b[0;31m \u001b[0mprint\u001b[0m\u001b[0;34m(\u001b[0m\u001b[0mval_loss\u001b[0m\u001b[0;34m)\u001b[0m\u001b[0;34m\u001b[0m\u001b[0;34m\u001b[0m\u001b[0m\n\u001b[0m",
            "\u001b[0;31mNameError\u001b[0m: name 'val_loss' is not defined"
          ]
        }
      ],
      "source": [
        "print(val_loss)"
      ]
    },
    {
      "cell_type": "code",
      "execution_count": null,
      "metadata": {
        "id": "rOnYsZEPkkf4",
        "outputId": "8ef38888-1357-4a37-c72e-53ce9db83fe2",
        "colab": {
          "base_uri": "https://localhost:8080/"
        }
      },
      "outputs": [
        {
          "output_type": "stream",
          "name": "stdout",
          "text": [
            "313/313 - 25s - loss: 2.7278 - accuracy: 0.3496 - 25s/epoch - 81ms/step\n",
            "\n",
            "Test accuracy: 0.3495999872684479\n"
          ]
        }
      ],
      "source": [
        "#Evaluate the model\n",
        "test_loss, test_acc = model.evaluate(x_test,  y_test, verbose=2)\n",
        "print('\\nTest accuracy:', test_acc)"
      ]
    },
    {
      "cell_type": "code",
      "execution_count": null,
      "metadata": {
        "id": "fQz6-XDCkkf6",
        "outputId": "09944c55-0947-4c26-f325-1197e0065dbe",
        "colab": {
          "base_uri": "https://localhost:8080/",
          "height": 455
        }
      },
      "outputs": [
        {
          "output_type": "display_data",
          "data": {
            "text/plain": [
              "<Figure size 640x480 with 1 Axes>"
            ],
            "image/png": "[encoded data removed]"
          },
          "metadata": {}
        }
      ],
      "source": [
        "#Plot the training history\n",
        "plt.plot(history.history['accuracy'], label='accuracy')\n",
        "plt.plot(history.history['val_accuracy'], label = 'val_accuracy')\n",
        "plt.xlabel('Epoch')\n",
        "plt.ylabel('Accuracy')\n",
        "plt.ylim([0, 1])\n",
        "plt.legend(loc='lower right')\n",
        "plt.show()\n"
      ]
    },
    {
      "cell_type": "code",
      "execution_count": null,
      "metadata": {
        "id": "0qd3H_1_kkf7",
        "outputId": "a3eb8599-fd08-4d98-8628-4af9576f992c",
        "colab": {
          "base_uri": "https://localhost:8080/",
          "height": 449
        }
      },
      "outputs": [
        {
          "output_type": "display_data",
          "data": {
            "text/plain": [
              "<Figure size 640x480 with 1 Axes>"
            ],
            "image/png": "[encoded data removed]"
          },
          "metadata": {}
        }
      ],
      "source": [
        "#plot loss\n",
        "plt.plot(train_loss, label='train loss')\n",
        "plt.plot(val_loss, label = 'val loss')\n",
        "\n",
        "plt.xlabel('Epoch')\n",
        "plt.ylabel('Loss')\n",
        "#legend\n",
        "plt.legend(loc='upper left')\n",
        "#show plot\n",
        "plt.show()\n"
      ]
    }
  ],
  "metadata": {
    "colab": {
      "provenance": []
    },
    "kernelspec": {
      "display_name": ".venv",
      "language": "python",
      "name": "python3"
    },
    "language_info": {
      "codemirror_mode": {
        "name": "ipython",
        "version": 3
      },
      "file_extension": ".py",
      "mimetype": "text/x-python",
      "name": "python",
      "nbconvert_exporter": "python",
      "pygments_lexer": "ipython3",
      "version": "3.12.2"
    }
  },
  "nbformat": 4,
  "nbformat_minor": 0
}