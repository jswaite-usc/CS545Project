{
 "cells": [
  {
   "cell_type": "code",
   "execution_count": 1,
   "metadata": {},
   "outputs": [
    {
     "name": "stdout",
     "output_type": "stream",
     "text": [
      "2.10.1\n"
     ]
    }
   ],
   "source": [
    "#We will make a basic CNN model to classify CIFAR-10#\n",
    "#We will use Keras from Tensorflow to build the model#\n",
    "\n",
    "import tensorflow as tf\n",
    "from tensorflow import keras\n",
    "from tensorflow.keras.metrics import TopKCategoricalAccuracy\n",
    "from tensorflow.keras import layers\n",
    "from tensorflow.keras.datasets import cifar10\n",
    "from tensorflow.keras.models import Sequential\n",
    "from tensorflow.keras.layers import Dense, Flatten, Conv2D, MaxPooling2D, Dropout\n",
    "from tensorflow.keras.losses import sparse_categorical_crossentropy\n",
    "from tensorflow.keras.optimizers import Adam\n",
    "from tensorflow.keras.callbacks import TensorBoard\n",
    "from tensorflow.random import gamma as tf_random_gamma\n",
    "from tensorflow import data as tf_data\n",
    "import numpy as np\n",
    "import matplotlib.pyplot as plt\n",
    "import datetime\n",
    "import pandas as pd\n",
    "\n",
    "#show the tensorflow version\n",
    "print(tf.__version__)\n"
   ]
  },
  {
   "cell_type": "code",
   "execution_count": 2,
   "metadata": {},
   "outputs": [
    {
     "name": "stdout",
     "output_type": "stream",
     "text": [
      "[name: \"/device:CPU:0\"\n",
      "device_type: \"CPU\"\n",
      "memory_limit: 268435456\n",
      "locality {\n",
      "}\n",
      "incarnation: 14130117037685544913\n",
      "xla_global_id: -1\n",
      ", name: \"/device:GPU:0\"\n",
      "device_type: \"GPU\"\n",
      "memory_limit: 5677768704\n",
      "locality {\n",
      "  bus_id: 1\n",
      "  links {\n",
      "  }\n",
      "}\n",
      "incarnation: 7185431091452592447\n",
      "physical_device_desc: \"device: 0, name: NVIDIA GeForce RTX 4060 Laptop GPU, pci bus id: 0000:01:00.0, compute capability: 8.9\"\n",
      "xla_global_id: 416903419\n",
      "]\n",
      "[PhysicalDevice(name='/physical_device:GPU:0', device_type='GPU')]\n"
     ]
    }
   ],
   "source": [
    "#Test if have GPU\n",
    "from tensorflow.python.client import device_lib\n",
    "print(device_lib.list_local_devices())\n",
    "import tensorflow as tf; print(tf.config.list_physical_devices('GPU'))"
   ]
  },
  {
   "cell_type": "code",
   "execution_count": 3,
   "metadata": {},
   "outputs": [
    {
     "name": "stdout",
     "output_type": "stream",
     "text": [
      "(50000, 32, 32, 3)\n",
      "(50000, 1)\n",
      "(10000, 32, 32, 3)\n",
      "(10000, 1)\n"
     ]
    }
   ],
   "source": [
    "#load the CIFAR-100 dataset & split into train and test sets\n",
    "(x_train, y_train), (x_test, y_test) = cifar10.load_data()\n",
    "\n",
    "\n",
    "#Normalize pixel values from 1-255 to 0-1\n",
    "x_train, x_test = x_train / 255.0, x_test / 255.0\n",
    "\n",
    "#show the shape of the dataset\n",
    "print(x_train.shape)\n",
    "print(y_train.shape)\n",
    "print(x_test.shape)\n",
    "print(y_test.shape)"
   ]
  },
  {
   "cell_type": "markdown",
   "metadata": {},
   "source": [
    "## Model (Drop-out + LS)"
   ]
  },
  {
   "cell_type": "markdown",
   "metadata": {},
   "source": [
    "## Baseline Model with Dropout"
   ]
  },
  {
   "cell_type": "code",
   "execution_count": 4,
   "metadata": {},
   "outputs": [],
   "source": [
    "#Build model\n",
    "def create_model(dropout_rate):\n",
    "\n",
    "    model = Sequential()\n",
    "\n",
    "    # Block 1\n",
    "    model.add(Conv2D(32, (3, 3), activation='relu', padding='same', input_shape=(32, 32, 3)))\n",
    "    model.add(Conv2D(32, (3, 3), activation='relu', padding='same'))\n",
    "    model.add(MaxPooling2D(pool_size=(2, 2)))\n",
    "\n",
    "    # Block 2\n",
    "    model.add(Conv2D(64, (3, 3), activation='relu', padding='same'))\n",
    "    model.add(MaxPooling2D(pool_size=(2, 2)))\n",
    "    model.add(Dropout(dropout_rate))\n",
    "    \n",
    "    # Block 3\n",
    "    model.add(Conv2D(128, (3, 3), activation='relu', padding='same'))\n",
    "    model.add(MaxPooling2D(pool_size=(2, 2)))\n",
    "\n",
    "    model.add(Conv2D(128, (3, 3), activation='relu', padding='same'))\n",
    "    model.add(MaxPooling2D(pool_size=(2, 2)))\n",
    "    \n",
    "\n",
    "\n",
    "    model.add(Conv2D(128, (3, 3), activation='relu', padding='same'))\n",
    "    model.add(MaxPooling2D(pool_size=(2, 2)))\n",
    "    \n",
    "\n",
    "    # Block 4\n",
    "    model.add(Flatten())\n",
    "    model.add(Dense(256, activation='relu'))\n",
    "\n",
    "    # Block 5\n",
    "    model.add(Dense(10, activation='softmax'))\n",
    "\n",
    "    # Print the model summary\n",
    "    #model.summary()\n",
    "    # #Compile the model\n",
    "    # model.compile(optimizer='adam',\n",
    "    #     loss=tf.keras.losses.SparseCategoricalCrossentropy(from_logits=True),\n",
    "    #     metrics=['accuracy'])\n",
    "    return model\n",
    "\n"
   ]
  },
  {
   "cell_type": "code",
   "execution_count": 6,
   "metadata": {},
   "outputs": [
    {
     "name": "stdout",
     "output_type": "stream",
     "text": [
      "Training model with MaxDropout rate: 0.5\n",
      "Epoch 1/60\n",
      "1563/1563 [==============================] - 17s 8ms/step - loss: 1.8480 - accuracy: 0.4202 - top_k_categorical_accuracy: 0.7489 - val_loss: 1.5982 - val_accuracy: 0.5813 - val_top_k_categorical_accuracy: 0.8740\n",
      "Epoch 2/60\n",
      "1563/1563 [==============================] - 11s 7ms/step - loss: 1.5570 - accuracy: 0.6106 - top_k_categorical_accuracy: 0.8808 - val_loss: 1.4717 - val_accuracy: 0.6694 - val_top_k_categorical_accuracy: 0.9026\n",
      "Epoch 3/60\n",
      "1563/1563 [==============================] - 11s 7ms/step - loss: 1.4469 - accuracy: 0.6772 - top_k_categorical_accuracy: 0.9098 - val_loss: 1.4048 - val_accuracy: 0.7066 - val_top_k_categorical_accuracy: 0.9210\n",
      "Epoch 4/60\n",
      "1563/1563 [==============================] - 10s 6ms/step - loss: 1.3877 - accuracy: 0.7116 - top_k_categorical_accuracy: 0.9237 - val_loss: 1.3974 - val_accuracy: 0.7132 - val_top_k_categorical_accuracy: 0.9193\n",
      "Epoch 5/60\n",
      "1563/1563 [==============================] - 10s 6ms/step - loss: 1.3506 - accuracy: 0.7334 - top_k_categorical_accuracy: 0.9315 - val_loss: 1.3676 - val_accuracy: 0.7298 - val_top_k_categorical_accuracy: 0.9264\n",
      "Epoch 6/60\n",
      "1563/1563 [==============================] - 10s 7ms/step - loss: 1.3197 - accuracy: 0.7521 - top_k_categorical_accuracy: 0.9398 - val_loss: 1.3578 - val_accuracy: 0.7337 - val_top_k_categorical_accuracy: 0.9257\n",
      "Epoch 7/60\n",
      "1563/1563 [==============================] - 11s 7ms/step - loss: 1.2988 - accuracy: 0.7640 - top_k_categorical_accuracy: 0.9444 - val_loss: 1.3299 - val_accuracy: 0.7499 - val_top_k_categorical_accuracy: 0.9364\n",
      "Epoch 8/60\n",
      "1563/1563 [==============================] - 10s 6ms/step - loss: 1.2809 - accuracy: 0.7742 - top_k_categorical_accuracy: 0.9465 - val_loss: 1.3021 - val_accuracy: 0.7669 - val_top_k_categorical_accuracy: 0.9415\n",
      "Epoch 9/60\n",
      "1563/1563 [==============================] - 11s 7ms/step - loss: 1.2625 - accuracy: 0.7860 - top_k_categorical_accuracy: 0.9519 - val_loss: 1.3154 - val_accuracy: 0.7531 - val_top_k_categorical_accuracy: 0.9412\n",
      "Epoch 10/60\n",
      "1563/1563 [==============================] - 10s 7ms/step - loss: 1.2463 - accuracy: 0.7942 - top_k_categorical_accuracy: 0.9551 - val_loss: 1.2965 - val_accuracy: 0.7702 - val_top_k_categorical_accuracy: 0.9393\n",
      "Epoch 11/60\n",
      "1563/1563 [==============================] - 10s 7ms/step - loss: 1.2352 - accuracy: 0.8008 - top_k_categorical_accuracy: 0.9569 - val_loss: 1.2821 - val_accuracy: 0.7770 - val_top_k_categorical_accuracy: 0.9445\n",
      "Epoch 12/60\n",
      "1563/1563 [==============================] - 10s 7ms/step - loss: 1.2259 - accuracy: 0.8053 - top_k_categorical_accuracy: 0.9586 - val_loss: 1.2765 - val_accuracy: 0.7774 - val_top_k_categorical_accuracy: 0.9473\n",
      "Epoch 13/60\n",
      "1563/1563 [==============================] - 10s 7ms/step - loss: 1.2157 - accuracy: 0.8113 - top_k_categorical_accuracy: 0.9609 - val_loss: 1.2752 - val_accuracy: 0.7800 - val_top_k_categorical_accuracy: 0.9427\n",
      "Epoch 14/60\n",
      "1563/1563 [==============================] - 10s 7ms/step - loss: 1.2048 - accuracy: 0.8172 - top_k_categorical_accuracy: 0.9625 - val_loss: 1.2709 - val_accuracy: 0.7827 - val_top_k_categorical_accuracy: 0.9442\n",
      "Epoch 15/60\n",
      "1563/1563 [==============================] - 11s 7ms/step - loss: 1.1948 - accuracy: 0.8243 - top_k_categorical_accuracy: 0.9638 - val_loss: 1.2765 - val_accuracy: 0.7823 - val_top_k_categorical_accuracy: 0.9443\n",
      "Epoch 16/60\n",
      "1563/1563 [==============================] - 10s 7ms/step - loss: 1.1882 - accuracy: 0.8277 - top_k_categorical_accuracy: 0.9657 - val_loss: 1.2871 - val_accuracy: 0.7812 - val_top_k_categorical_accuracy: 0.9386\n",
      "Epoch 17/60\n",
      "1563/1563 [==============================] - 10s 7ms/step - loss: 1.1819 - accuracy: 0.8306 - top_k_categorical_accuracy: 0.9665 - val_loss: 1.2739 - val_accuracy: 0.7818 - val_top_k_categorical_accuracy: 0.9427\n",
      "Epoch 18/60\n",
      "1563/1563 [==============================] - 13s 8ms/step - loss: 1.1732 - accuracy: 0.8347 - top_k_categorical_accuracy: 0.9681 - val_loss: 1.2756 - val_accuracy: 0.7825 - val_top_k_categorical_accuracy: 0.9414\n",
      "Epoch 19/60\n",
      "1563/1563 [==============================] - 14s 9ms/step - loss: 1.1651 - accuracy: 0.8405 - top_k_categorical_accuracy: 0.9700 - val_loss: 1.2908 - val_accuracy: 0.7808 - val_top_k_categorical_accuracy: 0.9407\n",
      "Epoch 20/60\n",
      "1563/1563 [==============================] - 12s 8ms/step - loss: 1.1628 - accuracy: 0.8420 - top_k_categorical_accuracy: 0.9698 - val_loss: 1.2897 - val_accuracy: 0.7766 - val_top_k_categorical_accuracy: 0.9432\n",
      "Epoch 21/60\n",
      "1563/1563 [==============================] - 12s 8ms/step - loss: 1.1556 - accuracy: 0.8460 - top_k_categorical_accuracy: 0.9723 - val_loss: 1.2753 - val_accuracy: 0.7834 - val_top_k_categorical_accuracy: 0.9432\n",
      "Epoch 22/60\n",
      "1563/1563 [==============================] - 11s 7ms/step - loss: 1.1475 - accuracy: 0.8513 - top_k_categorical_accuracy: 0.9723 - val_loss: 1.2653 - val_accuracy: 0.7844 - val_top_k_categorical_accuracy: 0.9440\n",
      "Epoch 23/60\n",
      "1563/1563 [==============================] - 11s 7ms/step - loss: 1.1486 - accuracy: 0.8496 - top_k_categorical_accuracy: 0.9727 - val_loss: 1.2942 - val_accuracy: 0.7744 - val_top_k_categorical_accuracy: 0.9419\n",
      "Epoch 24/60\n",
      "1563/1563 [==============================] - 10s 6ms/step - loss: 1.1359 - accuracy: 0.8580 - top_k_categorical_accuracy: 0.9741 - val_loss: 1.2815 - val_accuracy: 0.7800 - val_top_k_categorical_accuracy: 0.9448\n",
      "Epoch 25/60\n",
      "1563/1563 [==============================] - 10s 6ms/step - loss: 1.1375 - accuracy: 0.8569 - top_k_categorical_accuracy: 0.9742 - val_loss: 1.2787 - val_accuracy: 0.7830 - val_top_k_categorical_accuracy: 0.9425\n",
      "Epoch 26/60\n",
      "1563/1563 [==============================] - 11s 7ms/step - loss: 1.1314 - accuracy: 0.8602 - top_k_categorical_accuracy: 0.9759 - val_loss: 1.2576 - val_accuracy: 0.7931 - val_top_k_categorical_accuracy: 0.9450\n",
      "Epoch 27/60\n",
      "1563/1563 [==============================] - 12s 8ms/step - loss: 1.1241 - accuracy: 0.8637 - top_k_categorical_accuracy: 0.9769 - val_loss: 1.2706 - val_accuracy: 0.7945 - val_top_k_categorical_accuracy: 0.9407\n",
      "Epoch 28/60\n",
      "1563/1563 [==============================] - 11s 7ms/step - loss: 1.1232 - accuracy: 0.8640 - top_k_categorical_accuracy: 0.9764 - val_loss: 1.2798 - val_accuracy: 0.7789 - val_top_k_categorical_accuracy: 0.9406\n",
      "Epoch 29/60\n",
      "1563/1563 [==============================] - 10s 7ms/step - loss: 1.1174 - accuracy: 0.8695 - top_k_categorical_accuracy: 0.9773 - val_loss: 1.2664 - val_accuracy: 0.7933 - val_top_k_categorical_accuracy: 0.9427\n",
      "Epoch 30/60\n",
      "1563/1563 [==============================] - 10s 6ms/step - loss: 1.1148 - accuracy: 0.8707 - top_k_categorical_accuracy: 0.9775 - val_loss: 1.2626 - val_accuracy: 0.7892 - val_top_k_categorical_accuracy: 0.9438\n",
      "Epoch 31/60\n",
      "1563/1563 [==============================] - 12s 7ms/step - loss: 1.1104 - accuracy: 0.8721 - top_k_categorical_accuracy: 0.9774 - val_loss: 1.2640 - val_accuracy: 0.7961 - val_top_k_categorical_accuracy: 0.9444\n",
      "Epoch 32/60\n",
      "1563/1563 [==============================] - 15s 9ms/step - loss: 1.1061 - accuracy: 0.8750 - top_k_categorical_accuracy: 0.9798 - val_loss: 1.2666 - val_accuracy: 0.7937 - val_top_k_categorical_accuracy: 0.9445\n",
      "Epoch 33/60\n",
      "1563/1563 [==============================] - 13s 8ms/step - loss: 1.1017 - accuracy: 0.8772 - top_k_categorical_accuracy: 0.9790 - val_loss: 1.2738 - val_accuracy: 0.7914 - val_top_k_categorical_accuracy: 0.9423\n",
      "Epoch 34/60\n",
      "1563/1563 [==============================] - 12s 8ms/step - loss: 1.0977 - accuracy: 0.8798 - top_k_categorical_accuracy: 0.9798 - val_loss: 1.2739 - val_accuracy: 0.7873 - val_top_k_categorical_accuracy: 0.9441\n",
      "Epoch 35/60\n",
      "1563/1563 [==============================] - 13s 8ms/step - loss: 1.0954 - accuracy: 0.8814 - top_k_categorical_accuracy: 0.9795 - val_loss: 1.2724 - val_accuracy: 0.7908 - val_top_k_categorical_accuracy: 0.9416\n",
      "Epoch 36/60\n",
      "1563/1563 [==============================] - 15s 9ms/step - loss: 1.0909 - accuracy: 0.8850 - top_k_categorical_accuracy: 0.9804 - val_loss: 1.2803 - val_accuracy: 0.7844 - val_top_k_categorical_accuracy: 0.9395\n",
      "Epoch 37/60\n",
      "1563/1563 [==============================] - 21s 14ms/step - loss: 1.0871 - accuracy: 0.8853 - top_k_categorical_accuracy: 0.9811 - val_loss: 1.2728 - val_accuracy: 0.7933 - val_top_k_categorical_accuracy: 0.9421\n",
      "Epoch 38/60\n",
      "1563/1563 [==============================] - 28s 18ms/step - loss: 1.0837 - accuracy: 0.8888 - top_k_categorical_accuracy: 0.9818 - val_loss: 1.2663 - val_accuracy: 0.7951 - val_top_k_categorical_accuracy: 0.9424\n",
      "Epoch 39/60\n",
      "1563/1563 [==============================] - 28s 18ms/step - loss: 1.0815 - accuracy: 0.8901 - top_k_categorical_accuracy: 0.9821 - val_loss: 1.2913 - val_accuracy: 0.7862 - val_top_k_categorical_accuracy: 0.9373\n",
      "Epoch 40/60\n",
      "1563/1563 [==============================] - 13s 9ms/step - loss: 1.0799 - accuracy: 0.8897 - top_k_categorical_accuracy: 0.9822 - val_loss: 1.2813 - val_accuracy: 0.7919 - val_top_k_categorical_accuracy: 0.9427\n",
      "Epoch 41/60\n",
      "1563/1563 [==============================] - 11s 7ms/step - loss: 1.0759 - accuracy: 0.8928 - top_k_categorical_accuracy: 0.9822 - val_loss: 1.2743 - val_accuracy: 0.7973 - val_top_k_categorical_accuracy: 0.9390\n",
      "Epoch 42/60\n",
      "1563/1563 [==============================] - 10s 6ms/step - loss: 1.0718 - accuracy: 0.8936 - top_k_categorical_accuracy: 0.9838 - val_loss: 1.2712 - val_accuracy: 0.7960 - val_top_k_categorical_accuracy: 0.9419\n",
      "Epoch 43/60\n",
      "1563/1563 [==============================] - 10s 6ms/step - loss: 1.0712 - accuracy: 0.8951 - top_k_categorical_accuracy: 0.9840 - val_loss: 1.2791 - val_accuracy: 0.7929 - val_top_k_categorical_accuracy: 0.9379\n",
      "Epoch 44/60\n",
      "1563/1563 [==============================] - 10s 6ms/step - loss: 1.0648 - accuracy: 0.8990 - top_k_categorical_accuracy: 0.9844 - val_loss: 1.2651 - val_accuracy: 0.7934 - val_top_k_categorical_accuracy: 0.9442\n",
      "Epoch 45/60\n",
      "1563/1563 [==============================] - 10s 6ms/step - loss: 1.0644 - accuracy: 0.8995 - top_k_categorical_accuracy: 0.9842 - val_loss: 1.2699 - val_accuracy: 0.7976 - val_top_k_categorical_accuracy: 0.9421\n",
      "Epoch 46/60\n",
      "1563/1563 [==============================] - 10s 6ms/step - loss: 1.0619 - accuracy: 0.8993 - top_k_categorical_accuracy: 0.9852 - val_loss: 1.3000 - val_accuracy: 0.7848 - val_top_k_categorical_accuracy: 0.9391\n",
      "Epoch 47/60\n",
      "1563/1563 [==============================] - 10s 6ms/step - loss: 1.0618 - accuracy: 0.9010 - top_k_categorical_accuracy: 0.9851 - val_loss: 1.2639 - val_accuracy: 0.8004 - val_top_k_categorical_accuracy: 0.9450\n",
      "Epoch 48/60\n",
      "1563/1563 [==============================] - 10s 6ms/step - loss: 1.0578 - accuracy: 0.9025 - top_k_categorical_accuracy: 0.9853 - val_loss: 1.2668 - val_accuracy: 0.7938 - val_top_k_categorical_accuracy: 0.9435\n",
      "Epoch 49/60\n",
      "1563/1563 [==============================] - 10s 7ms/step - loss: 1.0524 - accuracy: 0.9057 - top_k_categorical_accuracy: 0.9856 - val_loss: 1.2698 - val_accuracy: 0.7964 - val_top_k_categorical_accuracy: 0.9412\n",
      "Epoch 50/60\n",
      "1563/1563 [==============================] - 10s 6ms/step - loss: 1.0567 - accuracy: 0.9032 - top_k_categorical_accuracy: 0.9857 - val_loss: 1.2737 - val_accuracy: 0.7920 - val_top_k_categorical_accuracy: 0.9443\n",
      "Epoch 51/60\n",
      "1563/1563 [==============================] - 11s 7ms/step - loss: 1.0522 - accuracy: 0.9071 - top_k_categorical_accuracy: 0.9856 - val_loss: 1.2878 - val_accuracy: 0.7894 - val_top_k_categorical_accuracy: 0.9385\n",
      "Epoch 52/60\n",
      "1563/1563 [==============================] - 10s 7ms/step - loss: 1.0474 - accuracy: 0.9080 - top_k_categorical_accuracy: 0.9869 - val_loss: 1.2711 - val_accuracy: 0.7933 - val_top_k_categorical_accuracy: 0.9406\n",
      "Epoch 53/60\n",
      "1563/1563 [==============================] - 10s 6ms/step - loss: 1.0451 - accuracy: 0.9097 - top_k_categorical_accuracy: 0.9870 - val_loss: 1.2758 - val_accuracy: 0.7937 - val_top_k_categorical_accuracy: 0.9428\n",
      "Epoch 54/60\n",
      "1563/1563 [==============================] - 10s 6ms/step - loss: 1.0430 - accuracy: 0.9120 - top_k_categorical_accuracy: 0.9869 - val_loss: 1.2708 - val_accuracy: 0.7996 - val_top_k_categorical_accuracy: 0.9406\n",
      "Epoch 55/60\n",
      "1563/1563 [==============================] - 10s 6ms/step - loss: 1.0418 - accuracy: 0.9116 - top_k_categorical_accuracy: 0.9871 - val_loss: 1.2636 - val_accuracy: 0.8008 - val_top_k_categorical_accuracy: 0.9432\n",
      "Epoch 56/60\n",
      "1563/1563 [==============================] - 10s 6ms/step - loss: 1.0409 - accuracy: 0.9119 - top_k_categorical_accuracy: 0.9874 - val_loss: 1.2746 - val_accuracy: 0.7916 - val_top_k_categorical_accuracy: 0.9438\n",
      "Epoch 57/60\n",
      "1563/1563 [==============================] - 10s 6ms/step - loss: 1.0370 - accuracy: 0.9157 - top_k_categorical_accuracy: 0.9884 - val_loss: 1.2636 - val_accuracy: 0.7973 - val_top_k_categorical_accuracy: 0.9434\n",
      "Epoch 58/60\n",
      "1563/1563 [==============================] - 10s 6ms/step - loss: 1.0356 - accuracy: 0.9159 - top_k_categorical_accuracy: 0.9885 - val_loss: 1.2761 - val_accuracy: 0.7964 - val_top_k_categorical_accuracy: 0.9396\n",
      "Epoch 59/60\n",
      "1563/1563 [==============================] - 10s 6ms/step - loss: 1.0366 - accuracy: 0.9132 - top_k_categorical_accuracy: 0.9878 - val_loss: 1.2773 - val_accuracy: 0.7959 - val_top_k_categorical_accuracy: 0.9364\n",
      "Epoch 60/60\n",
      "1563/1563 [==============================] - 11s 7ms/step - loss: 1.0306 - accuracy: 0.9178 - top_k_categorical_accuracy: 0.9881 - val_loss: 1.2659 - val_accuracy: 0.7930 - val_top_k_categorical_accuracy: 0.9419\n"
     ]
    }
   ],
   "source": [
    "dropout_rates = [0.5]\n",
    "#all_histories = []\n",
    "#y_train_encoded, y_test_encoded = tf.keras.utils.to_categorical(y_train), tf.keras.utils.to_categorical(y_test)\n",
    "\n",
    "for rate in dropout_rates:\n",
    "    print(f\"Training model with MaxDropout rate: {rate}\")\n",
    "    model = create_model(rate)\n",
    "\n",
    "    #one hot labels\n",
    "    y_train_1hot = tf.keras.utils.to_categorical(y_train, 10)\n",
    "    y_test_1hot = tf.keras.utils.to_categorical(y_test, 10)\n",
    "    \n",
    "    log_dir = \"logs/fit/\" + datetime.datetime.now().strftime(\"%Y%m%d-%H%M%S\")\n",
    "    tensorboard_callback = TensorBoard(log_dir=log_dir, histogram_freq=1)\n",
    "    model.compile(optimizer='adam',\n",
    "                loss=tf.keras.losses.CategoricalCrossentropy(from_logits=False, label_smoothing=0.2),\n",
    "                 metrics=['accuracy', TopKCategoricalAccuracy(k=3)])  # Added Top-3 accuracy\n",
    "    history = model.fit(x_train, y_train_1hot, epochs=60, validation_data=(x_test,y_test_1hot), callbacks=[tensorboard_callback])\n",
    "\n",
    "    #all_histories.append(history)\n",
    "\n",
    "\n"
   ]
  },
  {
   "cell_type": "markdown",
   "metadata": {},
   "source": [
    "## Store loss & accuracy"
   ]
  },
  {
   "cell_type": "code",
   "execution_count": 7,
   "metadata": {},
   "outputs": [],
   "source": [
    "#store training loss and validation loss as a numpy array\n",
    "np.save('train_loss.npy', history.history['loss'])\n",
    "np.save('val_loss.npy', history.history['val_loss'])\n",
    "#store accuracy and validation accuracy as a numpy array\n",
    "train_accuracy = history.history['accuracy']\n",
    "val_accuracy = history.history['val_accuracy']\n",
    "np.save('train_accuracy.npy', train_accuracy)\n",
    "np.save('val_accuracy.npy', val_accuracy)\n",
    "#store top 3 accuracy and validation top 3 accuracy as a numpy array\n",
    "train_top3_accuracy = history.history['top_k_categorical_accuracy']\n",
    "val_top3_accuracy = history.history['val_top_k_categorical_accuracy']\n",
    "np.save('train_top3_accuracy.npy', train_top3_accuracy)\n",
    "np.save('val_top3_accuracy.npy', val_top3_accuracy)\n",
    "\n"
   ]
  },
  {
   "cell_type": "markdown",
   "metadata": {},
   "source": [
    "## load loss & accuracy"
   ]
  },
  {
   "cell_type": "code",
   "execution_count": 8,
   "metadata": {},
   "outputs": [],
   "source": [
    "#load the loss and accuracy data\n",
    "train_loss = np.load('train_loss.npy')\n",
    "val_loss = np.load('val_loss.npy')\n",
    "train_accuracy = np.load('train_accuracy.npy')\n",
    "val_accuracy = np.load('val_accuracy.npy')\n",
    "train_top3_accuracy = np.load('train_top3_accuracy.npy')\n",
    "val_top3_accuracy = np.load('val_top3_accuracy.npy')\n"
   ]
  },
  {
   "cell_type": "markdown",
   "metadata": {},
   "source": [
    "## Plot"
   ]
  },
  {
   "cell_type": "code",
   "execution_count": 9,
   "metadata": {},
   "outputs": [
    {
     "data": {
      "image/png": "[encoded data removed]",
      "text/plain": [
       "<Figure size 640x480 with 1 Axes>"
      ]
     },
     "metadata": {},
     "output_type": "display_data"
    }
   ],
   "source": [
    "#plot loss\n",
    "plt.plot(train_loss, label='train loss')\n",
    "plt.plot(val_loss, label = 'val loss')  \n",
    "plt.xlabel('Epoch')\n",
    "plt.ylabel('Loss')\n",
    "#legend\n",
    "plt.legend(loc='upper right')\n",
    "#show plot\n",
    "plt.show()\n"
   ]
  },
  {
   "cell_type": "code",
   "execution_count": 10,
   "metadata": {},
   "outputs": [
    {
     "data": {
      "image/png": "[encoded data removed]",
      "text/plain": [
       "<Figure size 640x480 with 1 Axes>"
      ]
     },
     "metadata": {},
     "output_type": "display_data"
    }
   ],
   "source": [
    "#plot accuracy\n",
    "plt.plot(train_accuracy, label='train accuracy')\n",
    "plt.plot(val_accuracy, label = 'val accuracy')\n",
    "plt.plot(val_top3_accuracy, label = 'val top 3 accuracy')\n",
    "plt.xlabel('Epoch')\n",
    "plt.ylabel('Accuracy')\n",
    "#legend\n",
    "plt.legend(loc='lower right')\n",
    "#show plot\n",
    "plt.show()\n"
   ]
  },
  {
   "cell_type": "code",
   "execution_count": 11,
   "metadata": {},
   "outputs": [
    {
     "name": "stdout",
     "output_type": "stream",
     "text": [
      "0.8008000254631042\n",
      "0.9473000168800354\n"
     ]
    }
   ],
   "source": [
    "#max accuracy\n",
    "print(max(val_accuracy))\n",
    "print(max(val_top3_accuracy))"
   ]
  },
  {
   "cell_type": "code",
   "execution_count": 12,
   "metadata": {},
   "outputs": [
    {
     "name": "stdout",
     "output_type": "stream",
     "text": [
      "313/313 [==============================] - 1s 3ms/step\n"
     ]
    },
    {
     "ename": "AxisError",
     "evalue": "axis 1 is out of bounds for array of dimension 1",
     "output_type": "error",
     "traceback": [
      "\u001b[1;31m---------------------------------------------------------------------------\u001b[0m",
      "\u001b[1;31mAxisError\u001b[0m                                 Traceback (most recent call last)",
      "Cell \u001b[1;32mIn[12], line 12\u001b[0m\n\u001b[0;32m     10\u001b[0m Y_true \u001b[38;5;241m=\u001b[39m np\u001b[38;5;241m.\u001b[39msqueeze(y_test)\n\u001b[0;32m     11\u001b[0m \u001b[38;5;66;03m#change Y_true from One hot encoding to integers\u001b[39;00m\n\u001b[1;32m---> 12\u001b[0m Y_true \u001b[38;5;241m=\u001b[39m \u001b[43mnp\u001b[49m\u001b[38;5;241;43m.\u001b[39;49m\u001b[43margmax\u001b[49m\u001b[43m(\u001b[49m\u001b[43mY_true\u001b[49m\u001b[43m,\u001b[49m\u001b[43m \u001b[49m\u001b[43maxis\u001b[49m\u001b[43m \u001b[49m\u001b[38;5;241;43m=\u001b[39;49m\u001b[43m \u001b[49m\u001b[38;5;241;43m1\u001b[39;49m\u001b[43m)\u001b[49m\n\u001b[0;32m     14\u001b[0m \u001b[38;5;66;03m# compute the confusion matrix\u001b[39;00m\n\u001b[0;32m     15\u001b[0m confusion_mtx \u001b[38;5;241m=\u001b[39m confusion_matrix(Y_true, Y_pred_classes)\n",
      "File \u001b[1;32mc:\\Users\\MSI\\anaconda3\\envs\\tf\\lib\\site-packages\\numpy\\core\\fromnumeric.py:1229\u001b[0m, in \u001b[0;36margmax\u001b[1;34m(a, axis, out, keepdims)\u001b[0m\n\u001b[0;32m   1142\u001b[0m \u001b[38;5;250m\u001b[39m\u001b[38;5;124;03m\"\"\"\u001b[39;00m\n\u001b[0;32m   1143\u001b[0m \u001b[38;5;124;03mReturns the indices of the maximum values along an axis.\u001b[39;00m\n\u001b[0;32m   1144\u001b[0m \n\u001b[1;32m   (...)\u001b[0m\n\u001b[0;32m   1226\u001b[0m \u001b[38;5;124;03m(2, 1, 4)\u001b[39;00m\n\u001b[0;32m   1227\u001b[0m \u001b[38;5;124;03m\"\"\"\u001b[39;00m\n\u001b[0;32m   1228\u001b[0m kwds \u001b[38;5;241m=\u001b[39m {\u001b[38;5;124m'\u001b[39m\u001b[38;5;124mkeepdims\u001b[39m\u001b[38;5;124m'\u001b[39m: keepdims} \u001b[38;5;28;01mif\u001b[39;00m keepdims \u001b[38;5;129;01mis\u001b[39;00m \u001b[38;5;129;01mnot\u001b[39;00m np\u001b[38;5;241m.\u001b[39m_NoValue \u001b[38;5;28;01melse\u001b[39;00m {}\n\u001b[1;32m-> 1229\u001b[0m \u001b[38;5;28;01mreturn\u001b[39;00m _wrapfunc(a, \u001b[38;5;124m'\u001b[39m\u001b[38;5;124margmax\u001b[39m\u001b[38;5;124m'\u001b[39m, axis\u001b[38;5;241m=\u001b[39maxis, out\u001b[38;5;241m=\u001b[39mout, \u001b[38;5;241m*\u001b[39m\u001b[38;5;241m*\u001b[39mkwds)\n",
      "File \u001b[1;32mc:\\Users\\MSI\\anaconda3\\envs\\tf\\lib\\site-packages\\numpy\\core\\fromnumeric.py:59\u001b[0m, in \u001b[0;36m_wrapfunc\u001b[1;34m(obj, method, *args, **kwds)\u001b[0m\n\u001b[0;32m     56\u001b[0m     \u001b[38;5;28;01mreturn\u001b[39;00m _wrapit(obj, method, \u001b[38;5;241m*\u001b[39margs, \u001b[38;5;241m*\u001b[39m\u001b[38;5;241m*\u001b[39mkwds)\n\u001b[0;32m     58\u001b[0m \u001b[38;5;28;01mtry\u001b[39;00m:\n\u001b[1;32m---> 59\u001b[0m     \u001b[38;5;28;01mreturn\u001b[39;00m bound(\u001b[38;5;241m*\u001b[39margs, \u001b[38;5;241m*\u001b[39m\u001b[38;5;241m*\u001b[39mkwds)\n\u001b[0;32m     60\u001b[0m \u001b[38;5;28;01mexcept\u001b[39;00m \u001b[38;5;167;01mTypeError\u001b[39;00m:\n\u001b[0;32m     61\u001b[0m     \u001b[38;5;66;03m# A TypeError occurs if the object does have such a method in its\u001b[39;00m\n\u001b[0;32m     62\u001b[0m     \u001b[38;5;66;03m# class, but its signature is not identical to that of NumPy's. This\u001b[39;00m\n\u001b[1;32m   (...)\u001b[0m\n\u001b[0;32m     66\u001b[0m     \u001b[38;5;66;03m# Call _wrapit from within the except clause to ensure a potential\u001b[39;00m\n\u001b[0;32m     67\u001b[0m     \u001b[38;5;66;03m# exception has a traceback chain.\u001b[39;00m\n\u001b[0;32m     68\u001b[0m     \u001b[38;5;28;01mreturn\u001b[39;00m _wrapit(obj, method, \u001b[38;5;241m*\u001b[39margs, \u001b[38;5;241m*\u001b[39m\u001b[38;5;241m*\u001b[39mkwds)\n",
      "\u001b[1;31mAxisError\u001b[0m: axis 1 is out of bounds for array of dimension 1"
     ]
    }
   ],
   "source": [
    "## CONFUSION MATRIX\n",
    "from sklearn.metrics import confusion_matrix\n",
    "import seaborn as sns\n",
    "\n",
    "# Predict the values from the validation dataset\n",
    "Y_pred = model.predict(x_test)\n",
    "# Convert predictions classes to one hot vectors\n",
    "Y_pred_classes = np.argmax(Y_pred, axis = 1)\n",
    "# Convert validation observations to one hot vectors\n",
    "Y_true = np.squeeze(y_test)\n",
    "#change Y_true from One hot encoding to integers\n",
    "Y_true = np.argmax(Y_true, axis = 1)\n",
    "\n",
    "# compute the confusion matrix\n",
    "confusion_mtx = confusion_matrix(Y_true, Y_pred_classes)\n",
    "#plot the confusion matrix\n",
    "f,ax = plt.subplots(figsize=(8, 8))\n",
    "sns.heatmap(confusion_mtx, annot=True, linewidths=0.01,cmap=\"Greens\",linecolor=\"gray\", fmt= '.1f',ax=ax)\n",
    "plt.xlabel(\"Predicted Label\")\n",
    "plt.ylabel(\"True Label\")\n",
    "plt.title(\"Confusion Matrix\")\n",
    "plt.show()\n",
    "\n",
    "\n",
    "\n"
   ]
  },
  {
   "cell_type": "markdown",
   "metadata": {},
   "source": [
    "## Save the trained Model"
   ]
  },
  {
   "cell_type": "code",
   "execution_count": null,
   "metadata": {},
   "outputs": [],
   "source": [
    "#save the trained model (Parameters) so I can use it again without training again\n",
    "model.save('cifar10_cnn.h5')\n",
    "#save the trained model (Weights) so I can use it again without training again\n",
    "model.save_weights('cifar10_cnn_weights.h5')\n"
   ]
  },
  {
   "cell_type": "markdown",
   "metadata": {},
   "source": [
    "## Load the trained Model"
   ]
  },
  {
   "cell_type": "code",
   "execution_count": null,
   "metadata": {},
   "outputs": [],
   "source": [
    "#load the trained model (Parameters) so I can use it again without training again\n",
    "#model = keras.models.load_model('cifar100_cnn.h5')\n",
    "\n",
    "#load the trained model (Weights) so I can use it again without training again\n",
    "#model.load_weights('cifar100_cnn_weights.h5')"
   ]
  }
 ],
 "metadata": {
  "kernelspec": {
   "display_name": ".venv",
   "language": "python",
   "name": "python3"
  },
  "language_info": {
   "codemirror_mode": {
    "name": "ipython",
    "version": 3
   },
   "file_extension": ".py",
   "mimetype": "text/x-python",
   "name": "python",
   "nbconvert_exporter": "python",
   "pygments_lexer": "ipython3",
   "version": "3.9.19"
  }
 },
 "nbformat": 4,
 "nbformat_minor": 2
}
