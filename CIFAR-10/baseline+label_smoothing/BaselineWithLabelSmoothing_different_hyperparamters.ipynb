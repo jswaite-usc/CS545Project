{
 "cells": [
  {
   "cell_type": "code",
   "execution_count": 2,
   "metadata": {},
   "outputs": [
    {
     "name": "stdout",
     "output_type": "stream",
     "text": [
      "2.10.1\n"
     ]
    }
   ],
   "source": [
    "#We will make a basic CNN model to classify CIFAR-100#\n",
    "#We will use Keras from Tensorflow to build the model#\n",
    "\n",
    "import tensorflow as tf\n",
    "from tensorflow import keras\n",
    "from tensorflow.keras import layers\n",
    "from tensorflow.keras.datasets import cifar10\n",
    "from tensorflow.keras.models import Sequential\n",
    "from tensorflow.keras.layers import Dense, Flatten, Conv2D, MaxPooling2D, Dropout\n",
    "from tensorflow.keras.losses import sparse_categorical_crossentropy\n",
    "from tensorflow.keras.optimizers import Adam\n",
    "from tensorflow.keras.callbacks import TensorBoard\n",
    "import numpy as np\n",
    "import matplotlib.pyplot as plt\n",
    "import datetime\n",
    "\n",
    "#show the tensorflow version\n",
    "print(tf.__version__)\n"
   ]
  },
  {
   "cell_type": "code",
   "execution_count": 3,
   "metadata": {},
   "outputs": [
    {
     "name": "stdout",
     "output_type": "stream",
     "text": [
      "[name: \"/device:CPU:0\"\n",
      "device_type: \"CPU\"\n",
      "memory_limit: 268435456\n",
      "locality {\n",
      "}\n",
      "incarnation: 312748461048338632\n",
      "xla_global_id: -1\n",
      ", name: \"/device:GPU:0\"\n",
      "device_type: \"GPU\"\n",
      "memory_limit: 5713326080\n",
      "locality {\n",
      "  bus_id: 1\n",
      "  links {\n",
      "  }\n",
      "}\n",
      "incarnation: 10250137994035873141\n",
      "physical_device_desc: \"device: 0, name: NVIDIA GeForce RTX 4060 Laptop GPU, pci bus id: 0000:01:00.0, compute capability: 8.9\"\n",
      "xla_global_id: 416903419\n",
      "]\n",
      "[PhysicalDevice(name='/physical_device:GPU:0', device_type='GPU')]\n"
     ]
    }
   ],
   "source": [
    "#Test if have GPU\n",
    "from tensorflow.python.client import device_lib\n",
    "print(device_lib.list_local_devices())\n",
    "import tensorflow as tf; print(tf.config.list_physical_devices('GPU'))"
   ]
  },
  {
   "cell_type": "code",
   "execution_count": 5,
   "metadata": {},
   "outputs": [
    {
     "name": "stdout",
     "output_type": "stream",
     "text": [
      "(50000, 32, 32, 3)\n",
      "(50000, 1)\n",
      "(10000, 32, 32, 3)\n",
      "(10000, 1)\n"
     ]
    }
   ],
   "source": [
    "#load the CIFAR-100 dataset & split into train and test sets\n",
    "(x_train, y_train), (x_test, y_test) = cifar10.load_data()\n",
    "\n",
    "#Normalize pixel values from 1-255 to 0-1\n",
    "x_train, x_test = x_train / 255.0, x_test / 255.0\n",
    "\n",
    "#show the shape of the dataset\n",
    "print(x_train.shape)\n",
    "print(y_train.shape)\n",
    "print(x_test.shape)\n",
    "print(y_test.shape) "
   ]
  },
  {
   "cell_type": "code",
   "execution_count": 6,
   "metadata": {},
   "outputs": [],
   "source": [
    "#shuffle train & test data\n",
    "\n",
    "# # Assuming x_train and y_train are your data\n",
    "# indices = np.arange(x_train.shape[0])\n",
    "# np.random.shuffle(indices)\n",
    "\n",
    "# # Let's say we want to select 10000 random samples\n",
    "# x_train_subset = x_train[indices[:10000]]\n",
    "# y_train_subset = y_train[indices[:10000]]"
   ]
  },
  {
   "cell_type": "code",
   "execution_count": 13,
   "metadata": {},
   "outputs": [
    {
     "name": "stdout",
     "output_type": "stream",
     "text": [
      "Model: \"sequential_1\"\n",
      "_________________________________________________________________\n",
      " Layer (type)                Output Shape              Param #   \n",
      "=================================================================\n",
      " conv2d_6 (Conv2D)           (None, 32, 32, 32)        896       \n",
      "                                                                 \n",
      " conv2d_7 (Conv2D)           (None, 32, 32, 32)        9248      \n",
      "                                                                 \n",
      " max_pooling2d_5 (MaxPooling  (None, 16, 16, 32)       0         \n",
      " 2D)                                                             \n",
      "                                                                 \n",
      " conv2d_8 (Conv2D)           (None, 16, 16, 64)        18496     \n",
      "                                                                 \n",
      " max_pooling2d_6 (MaxPooling  (None, 8, 8, 64)         0         \n",
      " 2D)                                                             \n",
      "                                                                 \n",
      " conv2d_9 (Conv2D)           (None, 8, 8, 128)         73856     \n",
      "                                                                 \n",
      " max_pooling2d_7 (MaxPooling  (None, 4, 4, 128)        0         \n",
      " 2D)                                                             \n",
      "                                                                 \n",
      " conv2d_10 (Conv2D)          (None, 4, 4, 128)         147584    \n",
      "                                                                 \n",
      " max_pooling2d_8 (MaxPooling  (None, 2, 2, 128)        0         \n",
      " 2D)                                                             \n",
      "                                                                 \n",
      " conv2d_11 (Conv2D)          (None, 2, 2, 128)         147584    \n",
      "                                                                 \n",
      " max_pooling2d_9 (MaxPooling  (None, 1, 1, 128)        0         \n",
      " 2D)                                                             \n",
      "                                                                 \n",
      " flatten_1 (Flatten)         (None, 128)               0         \n",
      "                                                                 \n",
      " dense_2 (Dense)             (None, 256)               33024     \n",
      "                                                                 \n",
      " dense_3 (Dense)             (None, 10)                2570      \n",
      "                                                                 \n",
      "=================================================================\n",
      "Total params: 433,258\n",
      "Trainable params: 433,258\n",
      "Non-trainable params: 0\n",
      "_________________________________________________________________\n"
     ]
    }
   ],
   "source": [
    "#Build model\n",
    "\n",
    "model = Sequential() #0\n",
    "\n",
    "# Block 1\n",
    "model.add(Conv2D(32, (3, 3), activation='relu', padding='same', input_shape=(32, 32, 3)))\n",
    "model.add(Conv2D(32, (3, 3), activation='relu', padding='same'))\n",
    "model.add(MaxPooling2D(pool_size=(2, 2)))\n",
    "\n",
    "# Block 2\n",
    "model.add(Conv2D(64, (3, 3), activation='relu', padding='same'))\n",
    "model.add(MaxPooling2D(pool_size=(2, 2)))\n",
    "\n",
    "# Block 3\n",
    "model.add(Conv2D(128, (3, 3), activation='relu', padding='same'))\n",
    "model.add(MaxPooling2D(pool_size=(2, 2)))\n",
    "\n",
    "model.add(Conv2D(128, (3, 3), activation='relu', padding='same'))\n",
    "model.add(MaxPooling2D(pool_size=(2, 2)))\n",
    "\n",
    "model.add(Conv2D(128, (3, 3), activation='relu', padding='same'))\n",
    "model.add(MaxPooling2D(pool_size=(2, 2)))\n",
    "\n",
    "# Block 4\n",
    "model.add(Flatten())\n",
    "model.add(Dense(256, activation='relu'))\n",
    "\n",
    "# Block 5\n",
    "model.add(Dense(10, activation='softmax'))\n",
    "\n",
    "# Print the model summary\n",
    "model.summary()\n",
    "\n",
    "#make four more identical models\n",
    "model2 = keras.models.clone_model(model) #0.05\n",
    "model3 = keras.models.clone_model(model) #0.1\n",
    "model4 = keras.models.clone_model(model) #0.2\n",
    "model5 = keras.models.clone_model(model) #0.5"
   ]
  },
  {
   "cell_type": "code",
   "execution_count": 14,
   "metadata": {},
   "outputs": [
    {
     "name": "stdout",
     "output_type": "stream",
     "text": [
      "Epoch 1/20\n",
      "1563/1563 [==============================] - 10s 6ms/step - loss: 1.4697 - accuracy: 0.4519 - val_loss: 1.0869 - val_accuracy: 0.6130\n",
      "Epoch 2/20\n",
      "1563/1563 [==============================] - 9s 6ms/step - loss: 0.9673 - accuracy: 0.6570 - val_loss: 0.8573 - val_accuracy: 0.6986\n",
      "Epoch 3/20\n",
      "1563/1563 [==============================] - 9s 6ms/step - loss: 0.7626 - accuracy: 0.7333 - val_loss: 0.7572 - val_accuracy: 0.7379\n",
      "Epoch 4/20\n",
      "1563/1563 [==============================] - 10s 7ms/step - loss: 0.6394 - accuracy: 0.7779 - val_loss: 0.7408 - val_accuracy: 0.7494\n",
      "Epoch 5/20\n",
      "1563/1563 [==============================] - 10s 6ms/step - loss: 0.5430 - accuracy: 0.8109 - val_loss: 0.7875 - val_accuracy: 0.7371\n",
      "Epoch 6/20\n",
      "1563/1563 [==============================] - 10s 7ms/step - loss: 0.4711 - accuracy: 0.8344 - val_loss: 0.7322 - val_accuracy: 0.7648\n",
      "Epoch 7/20\n",
      "1563/1563 [==============================] - 11s 7ms/step - loss: 0.4088 - accuracy: 0.8557 - val_loss: 0.7773 - val_accuracy: 0.7567\n",
      "Epoch 8/20\n",
      "1563/1563 [==============================] - 10s 7ms/step - loss: 0.3488 - accuracy: 0.8773 - val_loss: 0.7847 - val_accuracy: 0.7749\n",
      "Epoch 9/20\n",
      "1563/1563 [==============================] - 10s 7ms/step - loss: 0.3157 - accuracy: 0.8895 - val_loss: 0.8526 - val_accuracy: 0.7579\n",
      "Epoch 10/20\n",
      "1563/1563 [==============================] - 10s 7ms/step - loss: 0.2764 - accuracy: 0.9021 - val_loss: 0.8312 - val_accuracy: 0.7602\n",
      "Epoch 11/20\n",
      "1563/1563 [==============================] - 10s 6ms/step - loss: 0.2449 - accuracy: 0.9139 - val_loss: 0.9163 - val_accuracy: 0.7746\n",
      "Epoch 12/20\n",
      "1563/1563 [==============================] - 10s 6ms/step - loss: 0.2267 - accuracy: 0.9197 - val_loss: 0.9612 - val_accuracy: 0.7568\n",
      "Epoch 13/20\n",
      "1563/1563 [==============================] - 10s 6ms/step - loss: 0.2065 - accuracy: 0.9267 - val_loss: 0.9957 - val_accuracy: 0.7635\n",
      "Epoch 14/20\n",
      "1563/1563 [==============================] - 10s 7ms/step - loss: 0.1930 - accuracy: 0.9335 - val_loss: 1.0345 - val_accuracy: 0.7585\n",
      "Epoch 15/20\n",
      "1563/1563 [==============================] - 10s 6ms/step - loss: 0.1802 - accuracy: 0.9368 - val_loss: 1.0229 - val_accuracy: 0.7681\n",
      "Epoch 16/20\n",
      "1563/1563 [==============================] - 10s 6ms/step - loss: 0.1618 - accuracy: 0.9430 - val_loss: 1.0920 - val_accuracy: 0.7616\n",
      "Epoch 17/20\n",
      "1563/1563 [==============================] - 9s 6ms/step - loss: 0.1601 - accuracy: 0.9438 - val_loss: 1.1339 - val_accuracy: 0.7645\n",
      "Epoch 18/20\n",
      "1563/1563 [==============================] - 9s 6ms/step - loss: 0.1490 - accuracy: 0.9483 - val_loss: 1.2651 - val_accuracy: 0.7501\n",
      "Epoch 19/20\n",
      "1563/1563 [==============================] - 10s 6ms/step - loss: 0.1414 - accuracy: 0.9523 - val_loss: 1.2669 - val_accuracy: 0.7644\n",
      "Epoch 20/20\n",
      "1563/1563 [==============================] - 10s 6ms/step - loss: 0.1397 - accuracy: 0.9518 - val_loss: 1.2061 - val_accuracy: 0.7650\n",
      "Epoch 1/20\n"
     ]
    },
    {
     "name": "stderr",
     "output_type": "stream",
     "text": [
      "c:\\Users\\MSI\\anaconda3\\envs\\tf\\lib\\site-packages\\keras\\backend.py:5531: UserWarning: \"`categorical_crossentropy` received `from_logits=True`, but the `output` argument was produced by a Softmax activation and thus does not represent logits. Was this intended?\n",
      "  output, from_logits = _get_logits(\n"
     ]
    },
    {
     "name": "stdout",
     "output_type": "stream",
     "text": [
      "1563/1563 [==============================] - 10s 6ms/step - loss: 1.5596 - accuracy: 0.4254 - val_loss: 1.2202 - val_accuracy: 0.5709\n",
      "Epoch 2/20\n",
      "1563/1563 [==============================] - 10s 6ms/step - loss: 1.0533 - accuracy: 0.6376 - val_loss: 1.0138 - val_accuracy: 0.6566\n",
      "Epoch 3/20\n",
      "1563/1563 [==============================] - 10s 6ms/step - loss: 0.8476 - accuracy: 0.7196 - val_loss: 0.8484 - val_accuracy: 0.7183\n",
      "Epoch 4/20\n",
      "1563/1563 [==============================] - 9s 6ms/step - loss: 0.7299 - accuracy: 0.7622 - val_loss: 0.8503 - val_accuracy: 0.7242\n",
      "Epoch 5/20\n",
      "1563/1563 [==============================] - 9s 6ms/step - loss: 0.6400 - accuracy: 0.7966 - val_loss: 0.8185 - val_accuracy: 0.7336\n",
      "Epoch 6/20\n",
      "1563/1563 [==============================] - 11s 7ms/step - loss: 0.5624 - accuracy: 0.8238 - val_loss: 0.7846 - val_accuracy: 0.7557\n",
      "Epoch 7/20\n",
      "1563/1563 [==============================] - 11s 7ms/step - loss: 0.5047 - accuracy: 0.8458 - val_loss: 0.7957 - val_accuracy: 0.7543\n",
      "Epoch 8/20\n",
      "1563/1563 [==============================] - 11s 7ms/step - loss: 0.4508 - accuracy: 0.8657 - val_loss: 0.8090 - val_accuracy: 0.7638\n",
      "Epoch 9/20\n",
      "1563/1563 [==============================] - 10s 6ms/step - loss: 0.4058 - accuracy: 0.8813 - val_loss: 0.8599 - val_accuracy: 0.7505\n",
      "Epoch 10/20\n",
      "1563/1563 [==============================] - 10s 7ms/step - loss: 0.3647 - accuracy: 0.8978 - val_loss: 0.8430 - val_accuracy: 0.7572\n",
      "Epoch 11/20\n",
      "1563/1563 [==============================] - 10s 6ms/step - loss: 0.3314 - accuracy: 0.9093 - val_loss: 0.8862 - val_accuracy: 0.7537\n",
      "Epoch 12/20\n",
      "1563/1563 [==============================] - 11s 7ms/step - loss: 0.3037 - accuracy: 0.9201 - val_loss: 0.9248 - val_accuracy: 0.7488\n",
      "Epoch 13/20\n",
      "1563/1563 [==============================] - 10s 6ms/step - loss: 0.2791 - accuracy: 0.9290 - val_loss: 0.9314 - val_accuracy: 0.7558\n",
      "Epoch 14/20\n",
      "1563/1563 [==============================] - 10s 6ms/step - loss: 0.2621 - accuracy: 0.9347 - val_loss: 0.9232 - val_accuracy: 0.7611\n",
      "Epoch 15/20\n",
      "1563/1563 [==============================] - 10s 7ms/step - loss: 0.2490 - accuracy: 0.9394 - val_loss: 1.0112 - val_accuracy: 0.7563\n",
      "Epoch 16/20\n",
      "1563/1563 [==============================] - 10s 6ms/step - loss: 0.2319 - accuracy: 0.9464 - val_loss: 1.0767 - val_accuracy: 0.7454\n",
      "Epoch 17/20\n",
      "1563/1563 [==============================] - 10s 6ms/step - loss: 0.2308 - accuracy: 0.9472 - val_loss: 0.9866 - val_accuracy: 0.7555\n",
      "Epoch 18/20\n",
      "1563/1563 [==============================] - 10s 7ms/step - loss: 0.2199 - accuracy: 0.9518 - val_loss: 1.0292 - val_accuracy: 0.7607\n",
      "Epoch 19/20\n",
      "1563/1563 [==============================] - 10s 7ms/step - loss: 0.2142 - accuracy: 0.9531 - val_loss: 1.0492 - val_accuracy: 0.7472\n",
      "Epoch 20/20\n",
      "1563/1563 [==============================] - 10s 6ms/step - loss: 0.2079 - accuracy: 0.9557 - val_loss: 1.0329 - val_accuracy: 0.7581\n",
      "Epoch 1/20\n",
      "1563/1563 [==============================] - 11s 7ms/step - loss: 1.6656 - accuracy: 0.4496 - val_loss: 1.3845 - val_accuracy: 0.5999\n",
      "Epoch 2/20\n",
      "1563/1563 [==============================] - 10s 7ms/step - loss: 1.2482 - accuracy: 0.6645 - val_loss: 1.1813 - val_accuracy: 0.7030\n",
      "Epoch 3/20\n",
      "1444/1563 [==========================>...] - ETA: 0s - loss: 1.0854 - accuracy: 0.7421"
     ]
    }
   ],
   "source": [
    "#Compile the model wiht label smoothing\n",
    "model.compile(optimizer='adam',\n",
    "              loss=tf.keras.losses.SparseCategoricalCrossentropy(from_logits=False),\n",
    "              metrics=['accuracy'])\n",
    "model2.compile(optimizer='adam',\n",
    "              loss=tf.keras.losses.CategoricalCrossentropy(from_logits=True, label_smoothing=0.01),\n",
    "              metrics=['accuracy'])\n",
    "model3.compile(optimizer='adam',\n",
    "                loss=tf.keras.losses.CategoricalCrossentropy(from_logits=False, label_smoothing=0.1),\n",
    "                metrics=['accuracy'])\n",
    "model4.compile(optimizer='adam',\n",
    "                loss=tf.keras.losses.CategoricalCrossentropy(from_logits=False, label_smoothing=0.2),\n",
    "                metrics=['accuracy'])\n",
    "model5.compile(optimizer='adam',\n",
    "                loss=tf.keras.losses.CategoricalCrossentropy(from_logits=False, label_smoothing=0.5),\n",
    "                metrics=['accuracy'])\n",
    "\n",
    "#Train the models\n",
    "log_dir = \"logs/fit/\" + datetime.datetime.now().strftime(\"%Y%m%d-%H%M%S\")\n",
    "tensorboard_callback = TensorBoard(log_dir=log_dir, histogram_freq=1)\n",
    "history = model.fit(x_train, y_train, epochs=20, validation_data=(x_test, y_test), callbacks=[tensorboard_callback])\n",
    "#one hot labels\n",
    "y_train_1hot = tf.keras.utils.to_categorical(y_train, 10)\n",
    "y_test_1hot = tf.keras.utils.to_categorical(y_test, 10)\n",
    "\n",
    "history2 = model2.fit(x_train, y_train_1hot, epochs=20, validation_data=(x_test, y_test_1hot), callbacks=[tensorboard_callback])\n",
    "history3 = model3.fit(x_train, y_train_1hot, epochs=20, validation_data=(x_test, y_test_1hot), callbacks=[tensorboard_callback])\n",
    "history4 = model4.fit(x_train, y_train_1hot, epochs=20, validation_data=(x_test, y_test_1hot), callbacks=[tensorboard_callback])\n",
    "history5 = model5.fit(x_train, y_train_1hot, epochs=20, validation_data=(x_test, y_test_1hot), callbacks=[tensorboard_callback])\n",
    "\n",
    "#save loss & validation loss every \n",
    "train_loss = history.history['loss']\n",
    "val_loss = history.history['val_loss']\n",
    "\n",
    "train_loss2 = history2.history['loss']\n",
    "val_loss2 = history2.history['val_loss']\n",
    "\n",
    "train_loss3 = history3.history['loss']\n",
    "val_loss3 = history3.history['val_loss']\n",
    "\n",
    "train_loss4 = history4.history['loss']\n",
    "val_loss4 = history4.history['val_loss']\n",
    "\n",
    "train_loss5 = history5.history['loss']\n",
    "val_loss5 = history5.history['val_loss']\n"
   ]
  },
  {
   "cell_type": "code",
   "execution_count": null,
   "metadata": {},
   "outputs": [],
   "source": [
    "#create a folder to save all these files\n",
    "import os\n",
    "if not os.path.exists('cifar10_cnn'):\n",
    "    os.makedirs('cifar10_cnn')\n",
    "\n",
    "\n",
    "#save the trained model (Parameters) so I can use it again without training again\n",
    "model.save('cifar10_cnn.h5')\n",
    "model2.save('cifar10_cnn2.h5')\n",
    "model3.save('cifar10_cnn3.h5')\n",
    "model4.save('cifar10_cnn4.h5')\n",
    "model5.save('cifar10_cnn5.h5')\n",
    "\n",
    "#save the trained model (Weights) so I can use it again without training again\n",
    "model.save_weights('cifar10_cnn_weights.h5')\n",
    "model2.save_weights('cifar10_cnn2_weights.h5')\n",
    "model3.save_weights('cifar10_cnn3_weights.h5')\n",
    "model4.save_weights('cifar10_cnn4_weights.h5')\n",
    "model5.save_weights('cifar10_cnn5_weights.h5')\n",
    "\n",
    "#save the histories\n",
    "np.save('train_loss.npy', train_loss)\n",
    "np.save('val_loss.npy', val_loss)\n",
    "\n",
    "np.save('train_loss2.npy', train_loss2)\n",
    "np.save('val_loss2.npy', val_loss2)\n",
    "\n",
    "np.save('train_loss3.npy', train_loss3)\n",
    "np.save('val_loss3.npy', val_loss3)\n",
    "\n",
    "np.save('train_loss4.npy', train_loss4)\n",
    "np.save('val_loss4.npy', val_loss4)\n",
    "\n",
    "np.save('train_loss5.npy', train_loss5)\n",
    "np.save('val_loss5.npy', val_loss5)"
   ]
  },
  {
   "cell_type": "code",
   "execution_count": null,
   "metadata": {},
   "outputs": [
    {
     "data": {
      "image/png": "[encoded data removed]",
      "text/plain": [
       "<Figure size 640x480 with 1 Axes>"
      ]
     },
     "metadata": {},
     "output_type": "display_data"
    }
   ],
   "source": [
    "#plot loss\n",
    "plt.plot(train_loss, label='train loss')\n",
    "plt.plot(val_loss, label = 'val loss')  \n",
    "\n",
    "plt.xlabel('Epoch')\n",
    "plt.ylabel('Loss')\n",
    "#legend\n",
    "plt.legend(loc='upper left')\n",
    "#show plot\n",
    "plt.show()\n"
   ]
  },
  {
   "cell_type": "markdown",
   "metadata": {},
   "source": [
    "## Save the trained Model"
   ]
  },
  {
   "cell_type": "code",
   "execution_count": null,
   "metadata": {},
   "outputs": [
    {
     "ename": "NameError",
     "evalue": "name 'model' is not defined",
     "output_type": "error",
     "traceback": [
      "\u001b[1;31m---------------------------------------------------------------------------\u001b[0m",
      "\u001b[1;31mNameError\u001b[0m                                 Traceback (most recent call last)",
      "Cell \u001b[1;32mIn[1], line 2\u001b[0m\n\u001b[0;32m      1\u001b[0m \u001b[38;5;66;03m#save the trained model (Parameters) so I can use it again without training again\u001b[39;00m\n\u001b[1;32m----> 2\u001b[0m \u001b[43mmodel\u001b[49m\u001b[38;5;241m.\u001b[39msave(\u001b[38;5;124m'\u001b[39m\u001b[38;5;124mcifar100_cnn.h5\u001b[39m\u001b[38;5;124m'\u001b[39m)\n\u001b[0;32m      3\u001b[0m \u001b[38;5;66;03m#save the trained model (Weights) so I can use it again without training again\u001b[39;00m\n\u001b[0;32m      4\u001b[0m model\u001b[38;5;241m.\u001b[39msave_weights(\u001b[38;5;124m'\u001b[39m\u001b[38;5;124mcifar100_cnn_weights.h5\u001b[39m\u001b[38;5;124m'\u001b[39m)\n",
      "\u001b[1;31mNameError\u001b[0m: name 'model' is not defined"
     ]
    }
   ],
   "source": [
    "#save the trained model (Parameters) so I can use it again without training again\n",
    "model.save('cifar100_cnn.h5')\n",
    "#save the trained model (Weights) so I can use it again without training again\n",
    "model.save_weights('cifar100_cnn_weights.h5')\n"
   ]
  },
  {
   "cell_type": "markdown",
   "metadata": {},
   "source": [
    "## Load the trained Model"
   ]
  },
  {
   "cell_type": "code",
   "execution_count": null,
   "metadata": {},
   "outputs": [],
   "source": [
    "#load the trained model (Parameters) so I can use it again without training again\n",
    "#model = keras.models.load_model('cifar100_cnn.h5')\n",
    "\n",
    "#load the trained model (Weights) so I can use it again without training again\n",
    "#model.load_weights('cifar100_cnn_weights.h5')"
   ]
  },
  {
   "cell_type": "code",
   "execution_count": null,
   "metadata": {},
   "outputs": [],
   "source": []
  }
 ],
 "metadata": {
  "kernelspec": {
   "display_name": ".venv",
   "language": "python",
   "name": "python3"
  },
  "language_info": {
   "codemirror_mode": {
    "name": "ipython",
    "version": 3
   },
   "file_extension": ".py",
   "mimetype": "text/x-python",
   "name": "python",
   "nbconvert_exporter": "python",
   "pygments_lexer": "ipython3",
   "version": "3.9.19"
  }
 },
 "nbformat": 4,
 "nbformat_minor": 2
}
